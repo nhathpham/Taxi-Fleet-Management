{
  "cells": [
    {
      "cell_type": "markdown",
      "metadata": {
        "id": "view-in-github",
        "colab_type": "text"
      },
      "source": [
        "<a href=\"https://colab.research.google.com/github/nhathpham/Taxi-Fleet-Management/blob/main/trip_data_processing.ipynb\" target=\"_parent\"><img src=\"https://colab.research.google.com/assets/colab-badge.svg\" alt=\"Open In Colab\"/></a>"
      ]
    },
    {
      "cell_type": "markdown",
      "metadata": {
        "id": "ypEMCPS_tQUK"
      },
      "source": [
        "# **0. Load packages and data**\n",
        "\n",
        "**Important**\n",
        "Data dictionary here: https://data.cityofchicago.org/Transportation/Taxi-Trips-2013-2023-/wrvz-psew/about_data"
      ]
    },
    {
      "cell_type": "markdown",
      "source": [
        "## **0.1 Load packages**"
      ],
      "metadata": {
        "id": "gRj8L7Kr8fZU"
      }
    },
    {
      "cell_type": "code",
      "source": [
        "from google.colab import drive\n",
        "import pandas as pd\n",
        "import numpy as np\n",
        "import seaborn as sns\n",
        "from scipy.spatial.distance import cdist\n",
        "import matplotlib.pyplot as plt\n",
        "from sklearn.neighbors import BallTree\n",
        "import json"
      ],
      "metadata": {
        "id": "SSEDmMK18e3Z"
      },
      "execution_count": null,
      "outputs": []
    },
    {
      "cell_type": "markdown",
      "source": [
        "## **0.2 Load full taxi trip data**"
      ],
      "metadata": {
        "id": "TrQIkURL8ieJ"
      }
    },
    {
      "cell_type": "code",
      "execution_count": null,
      "metadata": {
        "id": "TjOCZ8fFMEF0",
        "colab": {
          "base_uri": "https://localhost:8080/"
        },
        "outputId": "4a28e7fc-cf5f-4b2f-a93b-ec0d5ef06c01"
      },
      "outputs": [
        {
          "output_type": "stream",
          "name": "stdout",
          "text": [
            "Mounted at /content/drive\n"
          ]
        }
      ],
      "source": [
        "# Mount Google Drive\n",
        "drive.mount('/content/drive')\n",
        "\n",
        "# Specify the path to your Parquet file\n",
        "file_path = '/content/drive/My Drive/USML Projects/Data/sepnov.parquet'\n",
        "raw = pd.read_parquet(file_path)  #1.69M records\n",
        "#raw.head(1)"
      ]
    },
    {
      "cell_type": "markdown",
      "source": [
        "## **0.3 Load Chicago geojson file with community area info**"
      ],
      "metadata": {
        "id": "v9oBCq5JJgUE"
      }
    },
    {
      "cell_type": "code",
      "source": [
        "# File path\n",
        "file_path = '/content/drive/My Drive/USML Projects/Nhat/chicago_ca.geojson'\n",
        "\n",
        "# Read the GeoJSON file\n",
        "with open(file_path, 'r') as f:\n",
        "    geojson_data = json.load(f)\n",
        "\n",
        "# Convert GeoJSON features to DataFrame\n",
        "geojson_features = geojson_data['features']\n",
        "geojson_df = pd.DataFrame([feature['properties'] for feature in geojson_features])\n",
        "geojson_df['area_num_1'] = geojson_df['area_num_1'].astype(int)\n",
        "geojson_df.head(2)"
      ],
      "metadata": {
        "colab": {
          "base_uri": "https://localhost:8080/",
          "height": 112
        },
        "id": "ImgpCu0tJJ3k",
        "outputId": "6ac12060-0553-42c5-a26f-2a5ffd2c8e69"
      },
      "execution_count": null,
      "outputs": [
        {
          "output_type": "execute_result",
          "data": {
            "text/plain": [
              "  community area     shape_area perimeter  area_num_1 area_numbe comarea_id  \\\n",
              "0   DOUGLAS    0  46004621.1581         0          35         35          0   \n",
              "1   OAKLAND    0  16913961.0408         0          36         36          0   \n",
              "\n",
              "  comarea      shape_len  \n",
              "0       0  31027.0545098  \n",
              "1       0  19565.5061533  "
            ],
            "text/html": [
              "\n",
              "  <div id=\"df-e3640398-7a85-4f7d-be1b-4552724fb66b\" class=\"colab-df-container\">\n",
              "    <div>\n",
              "<style scoped>\n",
              "    .dataframe tbody tr th:only-of-type {\n",
              "        vertical-align: middle;\n",
              "    }\n",
              "\n",
              "    .dataframe tbody tr th {\n",
              "        vertical-align: top;\n",
              "    }\n",
              "\n",
              "    .dataframe thead th {\n",
              "        text-align: right;\n",
              "    }\n",
              "</style>\n",
              "<table border=\"1\" class=\"dataframe\">\n",
              "  <thead>\n",
              "    <tr style=\"text-align: right;\">\n",
              "      <th></th>\n",
              "      <th>community</th>\n",
              "      <th>area</th>\n",
              "      <th>shape_area</th>\n",
              "      <th>perimeter</th>\n",
              "      <th>area_num_1</th>\n",
              "      <th>area_numbe</th>\n",
              "      <th>comarea_id</th>\n",
              "      <th>comarea</th>\n",
              "      <th>shape_len</th>\n",
              "    </tr>\n",
              "  </thead>\n",
              "  <tbody>\n",
              "    <tr>\n",
              "      <th>0</th>\n",
              "      <td>DOUGLAS</td>\n",
              "      <td>0</td>\n",
              "      <td>46004621.1581</td>\n",
              "      <td>0</td>\n",
              "      <td>35</td>\n",
              "      <td>35</td>\n",
              "      <td>0</td>\n",
              "      <td>0</td>\n",
              "      <td>31027.0545098</td>\n",
              "    </tr>\n",
              "    <tr>\n",
              "      <th>1</th>\n",
              "      <td>OAKLAND</td>\n",
              "      <td>0</td>\n",
              "      <td>16913961.0408</td>\n",
              "      <td>0</td>\n",
              "      <td>36</td>\n",
              "      <td>36</td>\n",
              "      <td>0</td>\n",
              "      <td>0</td>\n",
              "      <td>19565.5061533</td>\n",
              "    </tr>\n",
              "  </tbody>\n",
              "</table>\n",
              "</div>\n",
              "    <div class=\"colab-df-buttons\">\n",
              "\n",
              "  <div class=\"colab-df-container\">\n",
              "    <button class=\"colab-df-convert\" onclick=\"convertToInteractive('df-e3640398-7a85-4f7d-be1b-4552724fb66b')\"\n",
              "            title=\"Convert this dataframe to an interactive table.\"\n",
              "            style=\"display:none;\">\n",
              "\n",
              "  <svg xmlns=\"http://www.w3.org/2000/svg\" height=\"24px\" viewBox=\"0 -960 960 960\">\n",
              "    <path d=\"M120-120v-720h720v720H120Zm60-500h600v-160H180v160Zm220 220h160v-160H400v160Zm0 220h160v-160H400v160ZM180-400h160v-160H180v160Zm440 0h160v-160H620v160ZM180-180h160v-160H180v160Zm440 0h160v-160H620v160Z\"/>\n",
              "  </svg>\n",
              "    </button>\n",
              "\n",
              "  <style>\n",
              "    .colab-df-container {\n",
              "      display:flex;\n",
              "      gap: 12px;\n",
              "    }\n",
              "\n",
              "    .colab-df-convert {\n",
              "      background-color: #E8F0FE;\n",
              "      border: none;\n",
              "      border-radius: 50%;\n",
              "      cursor: pointer;\n",
              "      display: none;\n",
              "      fill: #1967D2;\n",
              "      height: 32px;\n",
              "      padding: 0 0 0 0;\n",
              "      width: 32px;\n",
              "    }\n",
              "\n",
              "    .colab-df-convert:hover {\n",
              "      background-color: #E2EBFA;\n",
              "      box-shadow: 0px 1px 2px rgba(60, 64, 67, 0.3), 0px 1px 3px 1px rgba(60, 64, 67, 0.15);\n",
              "      fill: #174EA6;\n",
              "    }\n",
              "\n",
              "    .colab-df-buttons div {\n",
              "      margin-bottom: 4px;\n",
              "    }\n",
              "\n",
              "    [theme=dark] .colab-df-convert {\n",
              "      background-color: #3B4455;\n",
              "      fill: #D2E3FC;\n",
              "    }\n",
              "\n",
              "    [theme=dark] .colab-df-convert:hover {\n",
              "      background-color: #434B5C;\n",
              "      box-shadow: 0px 1px 3px 1px rgba(0, 0, 0, 0.15);\n",
              "      filter: drop-shadow(0px 1px 2px rgba(0, 0, 0, 0.3));\n",
              "      fill: #FFFFFF;\n",
              "    }\n",
              "  </style>\n",
              "\n",
              "    <script>\n",
              "      const buttonEl =\n",
              "        document.querySelector('#df-e3640398-7a85-4f7d-be1b-4552724fb66b button.colab-df-convert');\n",
              "      buttonEl.style.display =\n",
              "        google.colab.kernel.accessAllowed ? 'block' : 'none';\n",
              "\n",
              "      async function convertToInteractive(key) {\n",
              "        const element = document.querySelector('#df-e3640398-7a85-4f7d-be1b-4552724fb66b');\n",
              "        const dataTable =\n",
              "          await google.colab.kernel.invokeFunction('convertToInteractive',\n",
              "                                                    [key], {});\n",
              "        if (!dataTable) return;\n",
              "\n",
              "        const docLinkHtml = 'Like what you see? Visit the ' +\n",
              "          '<a target=\"_blank\" href=https://colab.research.google.com/notebooks/data_table.ipynb>data table notebook</a>'\n",
              "          + ' to learn more about interactive tables.';\n",
              "        element.innerHTML = '';\n",
              "        dataTable['output_type'] = 'display_data';\n",
              "        await google.colab.output.renderOutput(dataTable, element);\n",
              "        const docLink = document.createElement('div');\n",
              "        docLink.innerHTML = docLinkHtml;\n",
              "        element.appendChild(docLink);\n",
              "      }\n",
              "    </script>\n",
              "  </div>\n",
              "\n",
              "\n",
              "<div id=\"df-021e1c84-1c48-46f9-bec1-4e6787aa6dc0\">\n",
              "  <button class=\"colab-df-quickchart\" onclick=\"quickchart('df-021e1c84-1c48-46f9-bec1-4e6787aa6dc0')\"\n",
              "            title=\"Suggest charts\"\n",
              "            style=\"display:none;\">\n",
              "\n",
              "<svg xmlns=\"http://www.w3.org/2000/svg\" height=\"24px\"viewBox=\"0 0 24 24\"\n",
              "     width=\"24px\">\n",
              "    <g>\n",
              "        <path d=\"M19 3H5c-1.1 0-2 .9-2 2v14c0 1.1.9 2 2 2h14c1.1 0 2-.9 2-2V5c0-1.1-.9-2-2-2zM9 17H7v-7h2v7zm4 0h-2V7h2v10zm4 0h-2v-4h2v4z\"/>\n",
              "    </g>\n",
              "</svg>\n",
              "  </button>\n",
              "\n",
              "<style>\n",
              "  .colab-df-quickchart {\n",
              "      --bg-color: #E8F0FE;\n",
              "      --fill-color: #1967D2;\n",
              "      --hover-bg-color: #E2EBFA;\n",
              "      --hover-fill-color: #174EA6;\n",
              "      --disabled-fill-color: #AAA;\n",
              "      --disabled-bg-color: #DDD;\n",
              "  }\n",
              "\n",
              "  [theme=dark] .colab-df-quickchart {\n",
              "      --bg-color: #3B4455;\n",
              "      --fill-color: #D2E3FC;\n",
              "      --hover-bg-color: #434B5C;\n",
              "      --hover-fill-color: #FFFFFF;\n",
              "      --disabled-bg-color: #3B4455;\n",
              "      --disabled-fill-color: #666;\n",
              "  }\n",
              "\n",
              "  .colab-df-quickchart {\n",
              "    background-color: var(--bg-color);\n",
              "    border: none;\n",
              "    border-radius: 50%;\n",
              "    cursor: pointer;\n",
              "    display: none;\n",
              "    fill: var(--fill-color);\n",
              "    height: 32px;\n",
              "    padding: 0;\n",
              "    width: 32px;\n",
              "  }\n",
              "\n",
              "  .colab-df-quickchart:hover {\n",
              "    background-color: var(--hover-bg-color);\n",
              "    box-shadow: 0 1px 2px rgba(60, 64, 67, 0.3), 0 1px 3px 1px rgba(60, 64, 67, 0.15);\n",
              "    fill: var(--button-hover-fill-color);\n",
              "  }\n",
              "\n",
              "  .colab-df-quickchart-complete:disabled,\n",
              "  .colab-df-quickchart-complete:disabled:hover {\n",
              "    background-color: var(--disabled-bg-color);\n",
              "    fill: var(--disabled-fill-color);\n",
              "    box-shadow: none;\n",
              "  }\n",
              "\n",
              "  .colab-df-spinner {\n",
              "    border: 2px solid var(--fill-color);\n",
              "    border-color: transparent;\n",
              "    border-bottom-color: var(--fill-color);\n",
              "    animation:\n",
              "      spin 1s steps(1) infinite;\n",
              "  }\n",
              "\n",
              "  @keyframes spin {\n",
              "    0% {\n",
              "      border-color: transparent;\n",
              "      border-bottom-color: var(--fill-color);\n",
              "      border-left-color: var(--fill-color);\n",
              "    }\n",
              "    20% {\n",
              "      border-color: transparent;\n",
              "      border-left-color: var(--fill-color);\n",
              "      border-top-color: var(--fill-color);\n",
              "    }\n",
              "    30% {\n",
              "      border-color: transparent;\n",
              "      border-left-color: var(--fill-color);\n",
              "      border-top-color: var(--fill-color);\n",
              "      border-right-color: var(--fill-color);\n",
              "    }\n",
              "    40% {\n",
              "      border-color: transparent;\n",
              "      border-right-color: var(--fill-color);\n",
              "      border-top-color: var(--fill-color);\n",
              "    }\n",
              "    60% {\n",
              "      border-color: transparent;\n",
              "      border-right-color: var(--fill-color);\n",
              "    }\n",
              "    80% {\n",
              "      border-color: transparent;\n",
              "      border-right-color: var(--fill-color);\n",
              "      border-bottom-color: var(--fill-color);\n",
              "    }\n",
              "    90% {\n",
              "      border-color: transparent;\n",
              "      border-bottom-color: var(--fill-color);\n",
              "    }\n",
              "  }\n",
              "</style>\n",
              "\n",
              "  <script>\n",
              "    async function quickchart(key) {\n",
              "      const quickchartButtonEl =\n",
              "        document.querySelector('#' + key + ' button');\n",
              "      quickchartButtonEl.disabled = true;  // To prevent multiple clicks.\n",
              "      quickchartButtonEl.classList.add('colab-df-spinner');\n",
              "      try {\n",
              "        const charts = await google.colab.kernel.invokeFunction(\n",
              "            'suggestCharts', [key], {});\n",
              "      } catch (error) {\n",
              "        console.error('Error during call to suggestCharts:', error);\n",
              "      }\n",
              "      quickchartButtonEl.classList.remove('colab-df-spinner');\n",
              "      quickchartButtonEl.classList.add('colab-df-quickchart-complete');\n",
              "    }\n",
              "    (() => {\n",
              "      let quickchartButtonEl =\n",
              "        document.querySelector('#df-021e1c84-1c48-46f9-bec1-4e6787aa6dc0 button');\n",
              "      quickchartButtonEl.style.display =\n",
              "        google.colab.kernel.accessAllowed ? 'block' : 'none';\n",
              "    })();\n",
              "  </script>\n",
              "</div>\n",
              "\n",
              "    </div>\n",
              "  </div>\n"
            ],
            "application/vnd.google.colaboratory.intrinsic+json": {
              "type": "dataframe",
              "variable_name": "geojson_df",
              "summary": "{\n  \"name\": \"geojson_df\",\n  \"rows\": 77,\n  \"fields\": [\n    {\n      \"column\": \"community\",\n      \"properties\": {\n        \"dtype\": \"string\",\n        \"num_unique_values\": 77,\n        \"samples\": [\n          \"KENWOOD\",\n          \"NORWOOD PARK\",\n          \"JEFFERSON PARK\"\n        ],\n        \"semantic_type\": \"\",\n        \"description\": \"\"\n      }\n    },\n    {\n      \"column\": \"area\",\n      \"properties\": {\n        \"dtype\": \"category\",\n        \"num_unique_values\": 1,\n        \"samples\": [\n          \"0\"\n        ],\n        \"semantic_type\": \"\",\n        \"description\": \"\"\n      }\n    },\n    {\n      \"column\": \"shape_area\",\n      \"properties\": {\n        \"dtype\": \"string\",\n        \"num_unique_values\": 77,\n        \"samples\": [\n          \"29071741.9283\"\n        ],\n        \"semantic_type\": \"\",\n        \"description\": \"\"\n      }\n    },\n    {\n      \"column\": \"perimeter\",\n      \"properties\": {\n        \"dtype\": \"category\",\n        \"num_unique_values\": 1,\n        \"samples\": [\n          \"0\"\n        ],\n        \"semantic_type\": \"\",\n        \"description\": \"\"\n      }\n    },\n    {\n      \"column\": \"area_num_1\",\n      \"properties\": {\n        \"dtype\": \"number\",\n        \"std\": 22,\n        \"min\": 1,\n        \"max\": 77,\n        \"num_unique_values\": 77,\n        \"samples\": [\n          39\n        ],\n        \"semantic_type\": \"\",\n        \"description\": \"\"\n      }\n    },\n    {\n      \"column\": \"area_numbe\",\n      \"properties\": {\n        \"dtype\": \"string\",\n        \"num_unique_values\": 77,\n        \"samples\": [\n          \"39\"\n        ],\n        \"semantic_type\": \"\",\n        \"description\": \"\"\n      }\n    },\n    {\n      \"column\": \"comarea_id\",\n      \"properties\": {\n        \"dtype\": \"category\",\n        \"num_unique_values\": 1,\n        \"samples\": [\n          \"0\"\n        ],\n        \"semantic_type\": \"\",\n        \"description\": \"\"\n      }\n    },\n    {\n      \"column\": \"comarea\",\n      \"properties\": {\n        \"dtype\": \"category\",\n        \"num_unique_values\": 1,\n        \"samples\": [\n          \"0\"\n        ],\n        \"semantic_type\": \"\",\n        \"description\": \"\"\n      }\n    },\n    {\n      \"column\": \"shape_len\",\n      \"properties\": {\n        \"dtype\": \"string\",\n        \"num_unique_values\": 77,\n        \"samples\": [\n          \"23325.1679062\"\n        ],\n        \"semantic_type\": \"\",\n        \"description\": \"\"\n      }\n    }\n  ]\n}"
            }
          },
          "metadata": {},
          "execution_count": 3
        }
      ]
    },
    {
      "cell_type": "markdown",
      "source": [
        "## **0.4 Region - community area mapping**\n",
        "source: https://chicagocommunitygardens.org/communityareaslist/"
      ],
      "metadata": {
        "id": "aV-66v_xRr3F"
      }
    },
    {
      "cell_type": "code",
      "source": [
        "#The region mapping as from the above link\n",
        "region_mapping = {\n",
        "    'Far North Side': [1, 2, 3, 4, 9, 10, 11, 12, 13, 14, 77, 76],\n",
        "    'North Side': [5, 6, 7, 21, 22],\n",
        "    'Northwest Side': [15, 16, 17, 18, 19, 20],\n",
        "    'Central, Near North, and Near South Side': [8, 32, 33],\n",
        "    'West and Near West Side': [23, 24, 25, 26, 27, 28, 29, 30, 31],\n",
        "    'Southwest Side': [56, 57, 58, 59, 61, 62, 63, 64, 65, 66, 67, 68],\n",
        "    'South Side': [34, 35, 36, 37, 38, 39, 40, 41, 42, 43, 69, 60],\n",
        "    'Far Southwest Side': [70, 71, 72, 73, 74, 75],\n",
        "    'Far South Side': [44, 45, 46, 47, 48, 49, 50, 51, 52, 53, 54, 55]\n",
        "}\n",
        "\n",
        "# Create a function to map area_num_1 to its region\n",
        "def map_area_to_region(area_num):\n",
        "    for region, areas in region_mapping.items():\n",
        "        if area_num in areas:\n",
        "            return region\n",
        "    return None\n",
        "\n",
        "# Apply the function to create the \"region\" column\n",
        "geojson_df['region'] = geojson_df['area_num_1'].apply(map_area_to_region)\n",
        "\n",
        "# Display the DataFrame\n",
        "geojson_df.head(2)"
      ],
      "metadata": {
        "colab": {
          "base_uri": "https://localhost:8080/",
          "height": 112
        },
        "id": "svcgl4XSKobE",
        "outputId": "5bf2ff84-3ecc-4ea4-c075-62f39ffd53f5"
      },
      "execution_count": null,
      "outputs": [
        {
          "output_type": "execute_result",
          "data": {
            "text/plain": [
              "  community area     shape_area perimeter  area_num_1 area_numbe comarea_id  \\\n",
              "0   DOUGLAS    0  46004621.1581         0          35         35          0   \n",
              "1   OAKLAND    0  16913961.0408         0          36         36          0   \n",
              "\n",
              "  comarea      shape_len      region  \n",
              "0       0  31027.0545098  South Side  \n",
              "1       0  19565.5061533  South Side  "
            ],
            "text/html": [
              "\n",
              "  <div id=\"df-65c9ba37-c8b4-4030-924c-c8912e4698e9\" class=\"colab-df-container\">\n",
              "    <div>\n",
              "<style scoped>\n",
              "    .dataframe tbody tr th:only-of-type {\n",
              "        vertical-align: middle;\n",
              "    }\n",
              "\n",
              "    .dataframe tbody tr th {\n",
              "        vertical-align: top;\n",
              "    }\n",
              "\n",
              "    .dataframe thead th {\n",
              "        text-align: right;\n",
              "    }\n",
              "</style>\n",
              "<table border=\"1\" class=\"dataframe\">\n",
              "  <thead>\n",
              "    <tr style=\"text-align: right;\">\n",
              "      <th></th>\n",
              "      <th>community</th>\n",
              "      <th>area</th>\n",
              "      <th>shape_area</th>\n",
              "      <th>perimeter</th>\n",
              "      <th>area_num_1</th>\n",
              "      <th>area_numbe</th>\n",
              "      <th>comarea_id</th>\n",
              "      <th>comarea</th>\n",
              "      <th>shape_len</th>\n",
              "      <th>region</th>\n",
              "    </tr>\n",
              "  </thead>\n",
              "  <tbody>\n",
              "    <tr>\n",
              "      <th>0</th>\n",
              "      <td>DOUGLAS</td>\n",
              "      <td>0</td>\n",
              "      <td>46004621.1581</td>\n",
              "      <td>0</td>\n",
              "      <td>35</td>\n",
              "      <td>35</td>\n",
              "      <td>0</td>\n",
              "      <td>0</td>\n",
              "      <td>31027.0545098</td>\n",
              "      <td>South Side</td>\n",
              "    </tr>\n",
              "    <tr>\n",
              "      <th>1</th>\n",
              "      <td>OAKLAND</td>\n",
              "      <td>0</td>\n",
              "      <td>16913961.0408</td>\n",
              "      <td>0</td>\n",
              "      <td>36</td>\n",
              "      <td>36</td>\n",
              "      <td>0</td>\n",
              "      <td>0</td>\n",
              "      <td>19565.5061533</td>\n",
              "      <td>South Side</td>\n",
              "    </tr>\n",
              "  </tbody>\n",
              "</table>\n",
              "</div>\n",
              "    <div class=\"colab-df-buttons\">\n",
              "\n",
              "  <div class=\"colab-df-container\">\n",
              "    <button class=\"colab-df-convert\" onclick=\"convertToInteractive('df-65c9ba37-c8b4-4030-924c-c8912e4698e9')\"\n",
              "            title=\"Convert this dataframe to an interactive table.\"\n",
              "            style=\"display:none;\">\n",
              "\n",
              "  <svg xmlns=\"http://www.w3.org/2000/svg\" height=\"24px\" viewBox=\"0 -960 960 960\">\n",
              "    <path d=\"M120-120v-720h720v720H120Zm60-500h600v-160H180v160Zm220 220h160v-160H400v160Zm0 220h160v-160H400v160ZM180-400h160v-160H180v160Zm440 0h160v-160H620v160ZM180-180h160v-160H180v160Zm440 0h160v-160H620v160Z\"/>\n",
              "  </svg>\n",
              "    </button>\n",
              "\n",
              "  <style>\n",
              "    .colab-df-container {\n",
              "      display:flex;\n",
              "      gap: 12px;\n",
              "    }\n",
              "\n",
              "    .colab-df-convert {\n",
              "      background-color: #E8F0FE;\n",
              "      border: none;\n",
              "      border-radius: 50%;\n",
              "      cursor: pointer;\n",
              "      display: none;\n",
              "      fill: #1967D2;\n",
              "      height: 32px;\n",
              "      padding: 0 0 0 0;\n",
              "      width: 32px;\n",
              "    }\n",
              "\n",
              "    .colab-df-convert:hover {\n",
              "      background-color: #E2EBFA;\n",
              "      box-shadow: 0px 1px 2px rgba(60, 64, 67, 0.3), 0px 1px 3px 1px rgba(60, 64, 67, 0.15);\n",
              "      fill: #174EA6;\n",
              "    }\n",
              "\n",
              "    .colab-df-buttons div {\n",
              "      margin-bottom: 4px;\n",
              "    }\n",
              "\n",
              "    [theme=dark] .colab-df-convert {\n",
              "      background-color: #3B4455;\n",
              "      fill: #D2E3FC;\n",
              "    }\n",
              "\n",
              "    [theme=dark] .colab-df-convert:hover {\n",
              "      background-color: #434B5C;\n",
              "      box-shadow: 0px 1px 3px 1px rgba(0, 0, 0, 0.15);\n",
              "      filter: drop-shadow(0px 1px 2px rgba(0, 0, 0, 0.3));\n",
              "      fill: #FFFFFF;\n",
              "    }\n",
              "  </style>\n",
              "\n",
              "    <script>\n",
              "      const buttonEl =\n",
              "        document.querySelector('#df-65c9ba37-c8b4-4030-924c-c8912e4698e9 button.colab-df-convert');\n",
              "      buttonEl.style.display =\n",
              "        google.colab.kernel.accessAllowed ? 'block' : 'none';\n",
              "\n",
              "      async function convertToInteractive(key) {\n",
              "        const element = document.querySelector('#df-65c9ba37-c8b4-4030-924c-c8912e4698e9');\n",
              "        const dataTable =\n",
              "          await google.colab.kernel.invokeFunction('convertToInteractive',\n",
              "                                                    [key], {});\n",
              "        if (!dataTable) return;\n",
              "\n",
              "        const docLinkHtml = 'Like what you see? Visit the ' +\n",
              "          '<a target=\"_blank\" href=https://colab.research.google.com/notebooks/data_table.ipynb>data table notebook</a>'\n",
              "          + ' to learn more about interactive tables.';\n",
              "        element.innerHTML = '';\n",
              "        dataTable['output_type'] = 'display_data';\n",
              "        await google.colab.output.renderOutput(dataTable, element);\n",
              "        const docLink = document.createElement('div');\n",
              "        docLink.innerHTML = docLinkHtml;\n",
              "        element.appendChild(docLink);\n",
              "      }\n",
              "    </script>\n",
              "  </div>\n",
              "\n",
              "\n",
              "<div id=\"df-01fbb920-6e05-4048-a208-40f21d37bd89\">\n",
              "  <button class=\"colab-df-quickchart\" onclick=\"quickchart('df-01fbb920-6e05-4048-a208-40f21d37bd89')\"\n",
              "            title=\"Suggest charts\"\n",
              "            style=\"display:none;\">\n",
              "\n",
              "<svg xmlns=\"http://www.w3.org/2000/svg\" height=\"24px\"viewBox=\"0 0 24 24\"\n",
              "     width=\"24px\">\n",
              "    <g>\n",
              "        <path d=\"M19 3H5c-1.1 0-2 .9-2 2v14c0 1.1.9 2 2 2h14c1.1 0 2-.9 2-2V5c0-1.1-.9-2-2-2zM9 17H7v-7h2v7zm4 0h-2V7h2v10zm4 0h-2v-4h2v4z\"/>\n",
              "    </g>\n",
              "</svg>\n",
              "  </button>\n",
              "\n",
              "<style>\n",
              "  .colab-df-quickchart {\n",
              "      --bg-color: #E8F0FE;\n",
              "      --fill-color: #1967D2;\n",
              "      --hover-bg-color: #E2EBFA;\n",
              "      --hover-fill-color: #174EA6;\n",
              "      --disabled-fill-color: #AAA;\n",
              "      --disabled-bg-color: #DDD;\n",
              "  }\n",
              "\n",
              "  [theme=dark] .colab-df-quickchart {\n",
              "      --bg-color: #3B4455;\n",
              "      --fill-color: #D2E3FC;\n",
              "      --hover-bg-color: #434B5C;\n",
              "      --hover-fill-color: #FFFFFF;\n",
              "      --disabled-bg-color: #3B4455;\n",
              "      --disabled-fill-color: #666;\n",
              "  }\n",
              "\n",
              "  .colab-df-quickchart {\n",
              "    background-color: var(--bg-color);\n",
              "    border: none;\n",
              "    border-radius: 50%;\n",
              "    cursor: pointer;\n",
              "    display: none;\n",
              "    fill: var(--fill-color);\n",
              "    height: 32px;\n",
              "    padding: 0;\n",
              "    width: 32px;\n",
              "  }\n",
              "\n",
              "  .colab-df-quickchart:hover {\n",
              "    background-color: var(--hover-bg-color);\n",
              "    box-shadow: 0 1px 2px rgba(60, 64, 67, 0.3), 0 1px 3px 1px rgba(60, 64, 67, 0.15);\n",
              "    fill: var(--button-hover-fill-color);\n",
              "  }\n",
              "\n",
              "  .colab-df-quickchart-complete:disabled,\n",
              "  .colab-df-quickchart-complete:disabled:hover {\n",
              "    background-color: var(--disabled-bg-color);\n",
              "    fill: var(--disabled-fill-color);\n",
              "    box-shadow: none;\n",
              "  }\n",
              "\n",
              "  .colab-df-spinner {\n",
              "    border: 2px solid var(--fill-color);\n",
              "    border-color: transparent;\n",
              "    border-bottom-color: var(--fill-color);\n",
              "    animation:\n",
              "      spin 1s steps(1) infinite;\n",
              "  }\n",
              "\n",
              "  @keyframes spin {\n",
              "    0% {\n",
              "      border-color: transparent;\n",
              "      border-bottom-color: var(--fill-color);\n",
              "      border-left-color: var(--fill-color);\n",
              "    }\n",
              "    20% {\n",
              "      border-color: transparent;\n",
              "      border-left-color: var(--fill-color);\n",
              "      border-top-color: var(--fill-color);\n",
              "    }\n",
              "    30% {\n",
              "      border-color: transparent;\n",
              "      border-left-color: var(--fill-color);\n",
              "      border-top-color: var(--fill-color);\n",
              "      border-right-color: var(--fill-color);\n",
              "    }\n",
              "    40% {\n",
              "      border-color: transparent;\n",
              "      border-right-color: var(--fill-color);\n",
              "      border-top-color: var(--fill-color);\n",
              "    }\n",
              "    60% {\n",
              "      border-color: transparent;\n",
              "      border-right-color: var(--fill-color);\n",
              "    }\n",
              "    80% {\n",
              "      border-color: transparent;\n",
              "      border-right-color: var(--fill-color);\n",
              "      border-bottom-color: var(--fill-color);\n",
              "    }\n",
              "    90% {\n",
              "      border-color: transparent;\n",
              "      border-bottom-color: var(--fill-color);\n",
              "    }\n",
              "  }\n",
              "</style>\n",
              "\n",
              "  <script>\n",
              "    async function quickchart(key) {\n",
              "      const quickchartButtonEl =\n",
              "        document.querySelector('#' + key + ' button');\n",
              "      quickchartButtonEl.disabled = true;  // To prevent multiple clicks.\n",
              "      quickchartButtonEl.classList.add('colab-df-spinner');\n",
              "      try {\n",
              "        const charts = await google.colab.kernel.invokeFunction(\n",
              "            'suggestCharts', [key], {});\n",
              "      } catch (error) {\n",
              "        console.error('Error during call to suggestCharts:', error);\n",
              "      }\n",
              "      quickchartButtonEl.classList.remove('colab-df-spinner');\n",
              "      quickchartButtonEl.classList.add('colab-df-quickchart-complete');\n",
              "    }\n",
              "    (() => {\n",
              "      let quickchartButtonEl =\n",
              "        document.querySelector('#df-01fbb920-6e05-4048-a208-40f21d37bd89 button');\n",
              "      quickchartButtonEl.style.display =\n",
              "        google.colab.kernel.accessAllowed ? 'block' : 'none';\n",
              "    })();\n",
              "  </script>\n",
              "</div>\n",
              "\n",
              "    </div>\n",
              "  </div>\n"
            ],
            "application/vnd.google.colaboratory.intrinsic+json": {
              "type": "dataframe",
              "variable_name": "geojson_df",
              "summary": "{\n  \"name\": \"geojson_df\",\n  \"rows\": 77,\n  \"fields\": [\n    {\n      \"column\": \"community\",\n      \"properties\": {\n        \"dtype\": \"string\",\n        \"num_unique_values\": 77,\n        \"samples\": [\n          \"KENWOOD\",\n          \"NORWOOD PARK\",\n          \"JEFFERSON PARK\"\n        ],\n        \"semantic_type\": \"\",\n        \"description\": \"\"\n      }\n    },\n    {\n      \"column\": \"area\",\n      \"properties\": {\n        \"dtype\": \"category\",\n        \"num_unique_values\": 1,\n        \"samples\": [\n          \"0\"\n        ],\n        \"semantic_type\": \"\",\n        \"description\": \"\"\n      }\n    },\n    {\n      \"column\": \"shape_area\",\n      \"properties\": {\n        \"dtype\": \"string\",\n        \"num_unique_values\": 77,\n        \"samples\": [\n          \"29071741.9283\"\n        ],\n        \"semantic_type\": \"\",\n        \"description\": \"\"\n      }\n    },\n    {\n      \"column\": \"perimeter\",\n      \"properties\": {\n        \"dtype\": \"category\",\n        \"num_unique_values\": 1,\n        \"samples\": [\n          \"0\"\n        ],\n        \"semantic_type\": \"\",\n        \"description\": \"\"\n      }\n    },\n    {\n      \"column\": \"area_num_1\",\n      \"properties\": {\n        \"dtype\": \"number\",\n        \"std\": 22,\n        \"min\": 1,\n        \"max\": 77,\n        \"num_unique_values\": 77,\n        \"samples\": [\n          39\n        ],\n        \"semantic_type\": \"\",\n        \"description\": \"\"\n      }\n    },\n    {\n      \"column\": \"area_numbe\",\n      \"properties\": {\n        \"dtype\": \"string\",\n        \"num_unique_values\": 77,\n        \"samples\": [\n          \"39\"\n        ],\n        \"semantic_type\": \"\",\n        \"description\": \"\"\n      }\n    },\n    {\n      \"column\": \"comarea_id\",\n      \"properties\": {\n        \"dtype\": \"category\",\n        \"num_unique_values\": 1,\n        \"samples\": [\n          \"0\"\n        ],\n        \"semantic_type\": \"\",\n        \"description\": \"\"\n      }\n    },\n    {\n      \"column\": \"comarea\",\n      \"properties\": {\n        \"dtype\": \"category\",\n        \"num_unique_values\": 1,\n        \"samples\": [\n          \"0\"\n        ],\n        \"semantic_type\": \"\",\n        \"description\": \"\"\n      }\n    },\n    {\n      \"column\": \"shape_len\",\n      \"properties\": {\n        \"dtype\": \"string\",\n        \"num_unique_values\": 77,\n        \"samples\": [\n          \"23325.1679062\"\n        ],\n        \"semantic_type\": \"\",\n        \"description\": \"\"\n      }\n    },\n    {\n      \"column\": \"region\",\n      \"properties\": {\n        \"dtype\": \"category\",\n        \"num_unique_values\": 9,\n        \"samples\": [\n          \"Southwest Side\"\n        ],\n        \"semantic_type\": \"\",\n        \"description\": \"\"\n      }\n    }\n  ]\n}"
            }
          },
          "metadata": {},
          "execution_count": 4
        }
      ]
    },
    {
      "cell_type": "markdown",
      "metadata": {
        "id": "jGpm6xHQyGJv"
      },
      "source": [
        "# **1. Remove columns, filter out records**\n",
        "## **1.1 Remove columns**\n",
        "- Census columns: lots of missing data\n",
        "- Tolls: almost all records are 0 -> add this to extras\n"
      ]
    },
    {
      "cell_type": "code",
      "source": [
        "print(len(raw))\n",
        "# Remove census tract columns because of too much missing values\n",
        "df = raw.drop(['pickup_census_tract', 'dropoff_census_tract'], axis=1)\n",
        "\n",
        "# 0nly 8756 rows have tolls > 0\n",
        "df['extras'] = df['extras']+df['tolls']\n",
        "df = df.drop(['tolls'], axis=1)\n"
      ],
      "metadata": {
        "colab": {
          "base_uri": "https://localhost:8080/"
        },
        "id": "qP3PMEGtcgjy",
        "outputId": "b90b917b-5449-4db0-9746-4f312a669870"
      },
      "execution_count": null,
      "outputs": [
        {
          "output_type": "stream",
          "name": "stdout",
          "text": [
            "1693017\n"
          ]
        }
      ]
    },
    {
      "cell_type": "markdown",
      "source": [
        "\n",
        "## **1.2 Filter to trips that have pick up location inside the city only**\n",
        "If these fields are *null*, the pickup and/or dropoff location is **outside of the city (Chicago)**: pickup_community_area, dropoff_community_area, pickup_latitude, pickup_longitude, dropoff_latitude, dropoff_longitude, pickup_location, dropoff_location\n",
        "- If we impute these missing values with a common value, it will skew the clustering results\n",
        "- If we create a binary variable (in city: 1, out of city: 0) we won't be able to use the spatial data\n",
        "\n",
        "Hence, for now, let's remove rows with these nulls and just focus on trips that have pickup in the city. They can end in or outside of the city.\n"
      ],
      "metadata": {
        "id": "nP0DfPTbX1Q7"
      }
    },
    {
      "cell_type": "code",
      "execution_count": null,
      "metadata": {
        "id": "luxCbwGeFHk_",
        "colab": {
          "base_uri": "https://localhost:8080/"
        },
        "outputId": "e2941d45-92c7-4e9a-ce71-9fff9a5a3538"
      },
      "outputs": [
        {
          "output_type": "stream",
          "name": "stdout",
          "text": [
            "1647832\n"
          ]
        }
      ],
      "source": [
        "# Remove trips that begin outside of the city\n",
        "df = df[df.pickup_location.notnull()]\n",
        "print(len(df))"
      ]
    },
    {
      "cell_type": "markdown",
      "source": [
        "## **1.3 Remove trips that look like they actually didn't happen (recording errors or cancellation)**"
      ],
      "metadata": {
        "id": "4Jlq6eGwC5Bq"
      }
    },
    {
      "cell_type": "code",
      "source": [
        "# There are 29k records (1.7%) that have trip_seconds = 0, trip_miles = 0. Remove them assuming that these trips did not happen or there was metering issues\n",
        "df = df[~((df.trip_miles==0.0)&(df.trip_seconds==0.0))]\n",
        "print(len(df))\n",
        "\n",
        "# Remove 12k trips that have trip_total <= 3.25 (base fare), pickup_location = dropoff_location, and trip_miles = 0 or trip_seconds = 0\n",
        "df = df[~((df.trip_total<=3.25)&(df.pickup_community_area==df.dropoff_community_area)&((df.trip_miles==0.0)|(df.trip_seconds==0.0)))]\n",
        "print(len(df))"
      ],
      "metadata": {
        "colab": {
          "base_uri": "https://localhost:8080/"
        },
        "id": "JC_u1jcrC5RR",
        "outputId": "10a2dc7c-c8c9-4ddd-d3ac-bb5827fa94fa"
      },
      "execution_count": null,
      "outputs": [
        {
          "output_type": "stream",
          "name": "stdout",
          "text": [
            "1618934\n",
            "1606008\n"
          ]
        }
      ]
    },
    {
      "cell_type": "markdown",
      "source": [
        "## **1.4 trip_end_timestamps**\n",
        "- Remove rows with missing trip_end_timestamp and zero trip_seconds and trip_miles = 0 or null, and trip_total = 0 or null"
      ],
      "metadata": {
        "id": "mqH-KEgR3W1L"
      }
    },
    {
      "cell_type": "code",
      "source": [
        "# Conditions for rows to keep\n",
        "remove_ts_condition = (\n",
        "    df['trip_end_timestamp'].isnull() &  # Remove if trip_end_timestamp is missing and\n",
        "    df['trip_seconds'].isnull() &  # trip_seconds is missing and\n",
        "    (df['trip_miles'].isnull() | df['trip_miles'] == 0) &  # trip_miles is 0 or null and\n",
        "    (df['trip_total'].isnull() | df['trip_total'] == 0) # trip_total is 0 or null\n",
        ")\n",
        "# Filter the DataFrame based on the condition\n",
        "df = df[~remove_ts_condition]\n",
        "len(df)"
      ],
      "metadata": {
        "id": "A8JBxu5zpB9Y",
        "colab": {
          "base_uri": "https://localhost:8080/"
        },
        "outputId": "e2ff7765-6e73-48d1-ecdb-a8f933dbfa6e"
      },
      "execution_count": null,
      "outputs": [
        {
          "output_type": "execute_result",
          "data": {
            "text/plain": [
              "1605997"
            ]
          },
          "metadata": {},
          "execution_count": 8
        }
      ]
    },
    {
      "cell_type": "markdown",
      "metadata": {
        "id": "IJffiElYrKN7"
      },
      "source": [
        "# **2. Correct data types**"
      ]
    },
    {
      "cell_type": "code",
      "source": [
        "# Convert to datetime without considering 'UTC'\n",
        "df['trip_start_timestamp'] = pd.to_datetime(df['trip_start_timestamp'].str.slice(start=0, stop=-4), format='%Y-%m-%d %H:%M:%S')\n",
        "df['trip_end_timestamp'] = pd.to_datetime(df['trip_end_timestamp'].str.slice(start=0, stop=-4), format='%Y-%m-%d %H:%M:%S')\n",
        "df['pickup_community_area'] = df['pickup_community_area'].astype('category')\n",
        "df['dropoff_community_area'] = df['dropoff_community_area'].astype('category')\n",
        "df['payment_type'] = df['payment_type'].astype('category')\n",
        "df['company'] = df['company'].astype('category')\n",
        "# The latitude and longitude columns can be combined to one single xolumn for pickup and drop off respectively.\n",
        "df['pickup_location'] = df['pickup_latitude'].astype('string') + \", \" + df['pickup_longitude'].astype('string')\n",
        "df['dropoff_location'] = df['dropoff_latitude'].astype('string') + \", \" + df['dropoff_longitude'].astype('string')\n",
        "len(df)"
      ],
      "metadata": {
        "id": "7NaNgq1VnxPZ",
        "colab": {
          "base_uri": "https://localhost:8080/"
        },
        "outputId": "b33448ce-b075-4437-f4dc-641345cc1d2d"
      },
      "execution_count": null,
      "outputs": [
        {
          "output_type": "execute_result",
          "data": {
            "text/plain": [
              "1605997"
            ]
          },
          "metadata": {},
          "execution_count": 9
        }
      ]
    },
    {
      "cell_type": "markdown",
      "source": [
        "# **3. Address missing values**"
      ],
      "metadata": {
        "id": "7F8ValxAn7Wb"
      }
    },
    {
      "cell_type": "markdown",
      "metadata": {
        "id": "Mf8C5TLqk543"
      },
      "source": [
        "## **3.1 Impute missing community areas**\n",
        "- Location (latitude, longitude) is the centroid of a census tract, or a community area. However, I notice that there are records with location but without a community area value.\n",
        "- To address these, for any record with a non-null location but missing community area, I will determine the nearest location with a known community area and assign its community area to the entry with the missing information. Apply this to both pickup and drop-off location data."
      ]
    },
    {
      "cell_type": "code",
      "execution_count": null,
      "metadata": {
        "id": "ipdREUNKk4xv"
      },
      "outputs": [],
      "source": [
        "#round(df.isna().sum() / df.shape[0] *100,10)\n",
        "#df.isna().sum()"
      ]
    },
    {
      "cell_type": "markdown",
      "source": [
        "- First, create a look up table for (longitude, latitude) and community area"
      ],
      "metadata": {
        "id": "6ChAwsN4J7Cw"
      }
    },
    {
      "cell_type": "code",
      "source": [
        "# Filter out entries with non-null community areas and non-null latitude/longitude.\n",
        "pickup_notnull = df.dropna(subset=['pickup_community_area', 'pickup_latitude', 'pickup_longitude'])\n",
        "dropoff_notnull = df.dropna(subset=['dropoff_community_area', 'dropoff_latitude', 'dropoff_longitude'])\n",
        "\n",
        "# Combine unique pickup and dropoff locations into a single DataFrame for the lookup table.\n",
        "# Ensure there are no duplicate latitude/longitude pairs.\n",
        "lookup_df = pd.concat([\n",
        "    pickup_notnull[['pickup_latitude', 'pickup_longitude', 'pickup_community_area']].rename(columns={\n",
        "        'pickup_latitude': 'latitude',\n",
        "        'pickup_longitude': 'longitude',\n",
        "        'pickup_community_area': 'community_area'\n",
        "    }),\n",
        "    dropoff_notnull[['dropoff_latitude', 'dropoff_longitude', 'dropoff_community_area']].rename(columns={\n",
        "        'dropoff_latitude': 'latitude',\n",
        "        'dropoff_longitude': 'longitude',\n",
        "        'dropoff_community_area': 'community_area'\n",
        "    })\n",
        "]).drop_duplicates(subset=['latitude', 'longitude']).reset_index(drop=True)\n",
        "\n",
        "# Now, create a BallTree for efficient spatial queries.\n",
        "# Convert latitude and longitude to radians for use with the BallTree.\n",
        "lookup_df['latitude_rad'] = np.radians(lookup_df['latitude'])\n",
        "lookup_df['longitude_rad'] = np.radians(lookup_df['longitude'])\n",
        "tree = BallTree(lookup_df[['latitude_rad', 'longitude_rad']].values, metric='haversine')\n",
        "\n",
        "# The lookup_df is your lookup table, and the BallTree 'tree' can be used for nearest-neighbor queries.\n",
        "# Remember to drop the radian columns if you're going to save or use the lookup_df for other purposes.\n",
        "lookup_df = lookup_df.drop(columns=['latitude_rad', 'longitude_rad'])"
      ],
      "metadata": {
        "id": "lZqlf9CdLPwc"
      },
      "execution_count": null,
      "outputs": []
    },
    {
      "cell_type": "code",
      "source": [
        "def find_nearest_ca(tree, lookup_df, long_val, lat_val):\n",
        "    # BallTree expects data in the form of [[latitude, longitude]]\n",
        "    # Convert input longitude and latitude to radians\n",
        "    lat_rad = np.radians(lat_val)\n",
        "    long_rad = np.radians(long_val)\n",
        "\n",
        "    # Query the tree for the nearest neighbor\n",
        "    dist, idx = tree.query([[lat_rad, long_rad]], return_distance=True, k=1)\n",
        "\n",
        "    # Get the community_area of the nearest neighbor\n",
        "    nearest_community_area = lookup_df.iloc[idx[0][0]]['community_area']\n",
        "    # Print the looked up longitude, latitude, and the found community area\n",
        "    #print(f\"Looking up coordinates: Longitude = {long_val}, Latitude = {lat_val}\")\n",
        "    #print(f\"Nearest Community Area Found: {nearest_community_area}\")\n",
        "    return nearest_community_area\n",
        "\n",
        "def fill_null_ca(tree, lookup_df, long_col, lat_col, ca_col, df):\n",
        "    # Apply the find_nearest_ca function only to rows with null community areas\n",
        "    mask = df[ca_col].isnull() & df[long_col].notnull() & df[lat_col].notnull()\n",
        "    df.loc[mask, ca_col] = df.loc[mask].apply(\n",
        "        lambda row: find_nearest_ca(tree, lookup_df, row[long_col], row[lat_col]), axis=1)\n",
        "    return df\n",
        "\n",
        "# Now you can call fill_null_ca function with the appropriate columns and DataFrame.\n",
        "# Example usage:\n",
        "df = fill_null_ca(tree, lookup_df, 'pickup_longitude', 'pickup_latitude', 'pickup_community_area', df)\n",
        "df = fill_null_ca(tree, lookup_df, 'dropoff_longitude', 'dropoff_latitude', 'dropoff_community_area', df)\n",
        "len(df)"
      ],
      "metadata": {
        "id": "rHCN8n2qEOxv",
        "colab": {
          "base_uri": "https://localhost:8080/"
        },
        "outputId": "967df803-90a1-42fb-aa31-477e86a6a4bc"
      },
      "execution_count": null,
      "outputs": [
        {
          "output_type": "execute_result",
          "data": {
            "text/plain": [
              "1605997"
            ]
          },
          "metadata": {},
          "execution_count": 11
        }
      ]
    },
    {
      "cell_type": "markdown",
      "metadata": {
        "id": "5_4G1p9YnXr3"
      },
      "source": [
        "**Now we dont have missing values for pickup_community_area**"
      ]
    },
    {
      "cell_type": "code",
      "execution_count": null,
      "metadata": {
        "colab": {
          "base_uri": "https://localhost:8080/"
        },
        "id": "tjPeXFW3upie",
        "outputId": "1ca06b3f-ee67-459a-e094-265dfd850590"
      },
      "outputs": [
        {
          "output_type": "execute_result",
          "data": {
            "text/plain": [
              "unique_key                     0\n",
              "taxi_id                        0\n",
              "trip_start_timestamp           0\n",
              "trip_end_timestamp             0\n",
              "trip_seconds                 334\n",
              "trip_miles                     5\n",
              "pickup_community_area          0\n",
              "dropoff_community_area    111399\n",
              "fare                        4250\n",
              "tips                        4250\n",
              "extras                      4250\n",
              "trip_total                  4250\n",
              "payment_type                   0\n",
              "company                        0\n",
              "pickup_latitude                0\n",
              "pickup_longitude               0\n",
              "pickup_location                0\n",
              "dropoff_latitude          111399\n",
              "dropoff_longitude         111399\n",
              "dropoff_location          111399\n",
              "dtype: int64"
            ]
          },
          "metadata": {},
          "execution_count": 26
        }
      ],
      "source": [
        "round(df.isna().sum() / df.shape[0] *100,10)\n",
        "df.isna().sum()"
      ]
    },
    {
      "cell_type": "markdown",
      "metadata": {
        "id": "h5j__5wnzUcG"
      },
      "source": [
        "## **3.2 Fare, Tips, Tolls, Extras, Trip_totals, Trip_seconds, Trip_miles**\n",
        "- Impute missing fare and tolls with the median value of trips that share the same pickup_community_area, dropoff_community_area, and rounded trip_miles\n",
        "- Impute missing trip duration (trip_seconds) with the median value of trips that share the same pickup_community_area, dropoff_community_area, and rounded trip_miles\n",
        "- Impute missing trip distance (trip_miles) with the median value of trips that share the same pickup_community_area, dropoff_community_area, and rounded trip_seconds\n"
      ]
    },
    {
      "cell_type": "code",
      "execution_count": null,
      "metadata": {
        "id": "ok-nZh6Pzect",
        "colab": {
          "base_uri": "https://localhost:8080/"
        },
        "outputId": "91ce1a28-06bb-4dca-f14b-e2477effa5f8"
      },
      "outputs": [
        {
          "output_type": "stream",
          "name": "stdout",
          "text": [
            "Filled missing 'fare' for 4250 rows\n",
            "Filled missing 'trip_seconds' for 334 rows\n",
            "Filled missing 'trip_miles' for 5 rows\n"
          ]
        }
      ],
      "source": [
        "# Function to fill missing values for numerical columns\n",
        "def fill_na_num(df, tofill_col, anchor_col='trip_miles'):\n",
        "  # Calculate median fare values based on pickup_community_area, dropoff_community_area, and rounded trip_miles\n",
        "  nonzero_miles = df[df[anchor_col] != 0]\n",
        "\n",
        "  # Split the DataFrame based on null values in dropoff_community_area\n",
        "  nonzero_miles_dropoff_null = nonzero_miles[nonzero_miles['dropoff_community_area'].isnull()]\n",
        "  nonzero_miles_dropoff_notnull = nonzero_miles[nonzero_miles['dropoff_community_area'].notnull()]\n",
        "\n",
        "  # Calculate median values for records with null dropoff_community_area\n",
        "  median_vals_dropoff_null = nonzero_miles_dropoff_null.groupby(['pickup_community_area', nonzero_miles_dropoff_null[anchor_col].round()])[tofill_col].median()\n",
        "\n",
        "  # Calculate median values for records with non-null dropoff_community_area\n",
        "  median_vals_dropoff_notnull = nonzero_miles_dropoff_notnull.groupby(['pickup_community_area', 'dropoff_community_area', nonzero_miles_dropoff_notnull[anchor_col].round()])[tofill_col].median()\n",
        "\n",
        "  filled_count = 0  # Counter for filled missing values\n",
        "  # Fill missing fare values with median values based on pickup_community_area and dropoff_community_area\n",
        "  for index, row in df[df[tofill_col].isnull()].iterrows():\n",
        "    round_anchor = round(row[anchor_col])\n",
        "    median_val = None  # Initialize\n",
        "\n",
        "    if pd.isnull(row['dropoff_community_area']):\n",
        "      median_val = median_vals_dropoff_null.get((row['pickup_community_area'], round_anchor))\n",
        "      #print(f\"Missing {tofill_col} for pickup_community_area {row['pickup_community_area']} with null dropoff, {anchor_col} {round_anchor}: Using median {median_val}\")\n",
        "\n",
        "    else:\n",
        "      median_val = median_vals_dropoff_notnull.get((row['pickup_community_area'], row['dropoff_community_area'], round_anchor))\n",
        "      #print(f\"Missing {tofill_col} for pickup_community_area {row['pickup_community_area']}, dropoff_community_area {row['dropoff_community_area']} with {anchor_col} {round_anchor}: Using median {median_val}\")\n",
        "\n",
        "    # Check if median_val is NaN and try broader group or global median\n",
        "    if pd.isnull(median_val):\n",
        "      #print(f\"No direct median found, using fallback strategy for {index}.\")\n",
        "\n",
        "      if pd.isnull(row['dropoff_community_area']):\n",
        "        median_val = nonzero_miles[round(nonzero_miles['trip_miles']) == round_anchor][tofill_col].median()\n",
        "        #print(f\"Missing {tofill_col} for pickup_community_area {row['pickup_community_area']} with fallback strategy, trip_miles {round_anchor}: Using median {median_val}\")\n",
        "\n",
        "      else:\n",
        "        median_val = nonzero_miles[(nonzero_miles['pickup_community_area'] == row['pickup_community_area']) & (nonzero_miles['dropoff_community_area'] == row['dropoff_community_area'])][tofill_col].median()\n",
        "        #print(f\"Missing {tofill_col} for pickup_community_area {row['pickup_community_area']}, dropoff_community_area {row['dropoff_community_area']} with {anchor_col} {round_anchor}: Using median {median_val}\")\n",
        "\n",
        "    # Fill the missing value in the dataframe\n",
        "    df.at[index, tofill_col] = median_val\n",
        "    filled_count += 1\n",
        "  print(f\"Filled missing '{tofill_col}' for {filled_count} rows\")\n",
        "  return df\n",
        "\n",
        "df = fill_na_num(df, 'fare', anchor_col = 'trip_miles')\n",
        "#df = fill_na_num(df, 'tolls', anchor_col = 'trip_miles')\n",
        "df = fill_na_num(df, 'trip_seconds', anchor_col = 'trip_miles')\n",
        "df = fill_na_num(df, 'trip_miles',anchor_col = 'trip_seconds')"
      ]
    },
    {
      "cell_type": "markdown",
      "metadata": {
        "id": "dE36pw4g-nML"
      },
      "source": [
        "- Replace missing values for \"extras\" and \"tips\" with 0, as these amounts vary per trip and depend on information not available to us, such as customer satisfaction. The data dictionary specifies that cash tips are not recorded, justifying the assumption that unrecorded tips and extras can be considered as zero."
      ]
    },
    {
      "cell_type": "code",
      "execution_count": null,
      "metadata": {
        "id": "416yyiJQzegB",
        "colab": {
          "base_uri": "https://localhost:8080/"
        },
        "outputId": "6cd5a7f5-88cd-4beb-efd3-3fd9336b4e98"
      },
      "outputs": [
        {
          "output_type": "execute_result",
          "data": {
            "text/plain": [
              "1605996"
            ]
          },
          "metadata": {},
          "execution_count": 13
        }
      ],
      "source": [
        "# Fill missing values for extras and tips with zeros\n",
        "df['extras'].fillna(0, inplace=True)\n",
        "df['tips'].fillna(0, inplace=True)\n",
        "df['trip_total'].fillna(df['fare'] + df['tips'] + df['extras'], inplace=True)\n",
        "df = df[~((df.trip_miles==0)&(df.trip_seconds==0))]\n",
        "len(df)"
      ]
    },
    {
      "cell_type": "markdown",
      "source": [
        "- **The only column with missing value are dropoff location-related columns** - we wont need these columns for analysis 1. Analysis 2+ might need them so think about imputing or removing later. *Imputing does not make a lot of sense here, because we don't have information on outside of Chicago*"
      ],
      "metadata": {
        "id": "beNrwKqVEDBT"
      }
    },
    {
      "cell_type": "code",
      "source": [
        "round(df.isna().sum() / df.shape[0] *100,10)\n",
        "df.isna().sum()"
      ],
      "metadata": {
        "id": "dYPlqpMika38",
        "colab": {
          "base_uri": "https://localhost:8080/"
        },
        "outputId": "a56f8ac1-0a3f-49bd-d275-4206f8267a35"
      },
      "execution_count": null,
      "outputs": [
        {
          "output_type": "execute_result",
          "data": {
            "text/plain": [
              "unique_key                     0\n",
              "taxi_id                        0\n",
              "trip_start_timestamp           0\n",
              "trip_end_timestamp             0\n",
              "trip_seconds                   0\n",
              "trip_miles                     0\n",
              "pickup_community_area          0\n",
              "dropoff_community_area    111399\n",
              "fare                           0\n",
              "tips                           0\n",
              "extras                         0\n",
              "trip_total                     0\n",
              "payment_type                   0\n",
              "company                        0\n",
              "pickup_latitude                0\n",
              "pickup_longitude               0\n",
              "pickup_location                0\n",
              "dropoff_latitude          111399\n",
              "dropoff_longitude         111399\n",
              "dropoff_location          111399\n",
              "dtype: int64"
            ]
          },
          "metadata": {},
          "execution_count": 29
        }
      ]
    },
    {
      "cell_type": "markdown",
      "metadata": {
        "id": "IN4j7yQg63n6"
      },
      "source": [
        "# **4. Derive new variables**\n",
        "\n",
        "\n"
      ]
    },
    {
      "cell_type": "code",
      "execution_count": null,
      "metadata": {
        "id": "Tzj5kBWK2Uww",
        "colab": {
          "base_uri": "https://localhost:8080/"
        },
        "outputId": "a050e420-7c96-46d0-83ae-1f5d6a92c0ac"
      },
      "outputs": [
        {
          "output_type": "stream",
          "name": "stderr",
          "text": [
            "<ipython-input-14-c1dba8d0f426>:2: SettingWithCopyWarning: \n",
            "A value is trying to be set on a copy of a slice from a DataFrame.\n",
            "Try using .loc[row_indexer,col_indexer] = value instead\n",
            "\n",
            "See the caveats in the documentation: https://pandas.pydata.org/pandas-docs/stable/user_guide/indexing.html#returning-a-view-versus-a-copy\n",
            "  df['hour'] = df['trip_start_timestamp'].dt.hour\n"
          ]
        }
      ],
      "source": [
        "# Hour of day\n",
        "df['hour'] = df['trip_start_timestamp'].dt.hour\n",
        "# Day of Week\n",
        "df['dow'] = df['trip_start_timestamp'].dt.day_name()\n",
        "# 1 if weekend, 0 if not\n",
        "df['is_weekend'] = df['trip_start_timestamp'].dt.dayofweek.apply(lambda x: 1 if x >= 5 else 0)\n",
        "# Day of Week\n",
        "df['month'] = df['trip_start_timestamp'].dt.month\n",
        "\n",
        "# Define time periods\n",
        "def assign_time_slot(hour):\n",
        "    if 4 <= hour < 7:\n",
        "        return 'Early Morning'\n",
        "    elif 7 <= hour < 10:\n",
        "        return 'Morning Rush'\n",
        "    elif 10 <= hour < 13:\n",
        "        return 'Midday'\n",
        "    elif 13 <= hour < 16:\n",
        "        return 'Afternoon'\n",
        "    elif 16 <= hour < 19:\n",
        "        return 'Evening Rush'\n",
        "    elif 19 <= hour < 22:\n",
        "        return 'Evening'\n",
        "    #elif 22 <= hour <= 23 or hour == 0:\n",
        "    #    return 'Late Evening'\n",
        "    else:\n",
        "        return 'Night'\n",
        "\n",
        "df['period_start'] = df['hour'].apply(assign_time_slot)\n",
        "\n",
        "# Get the total travel time in hours from the seconds column\n",
        "df['trip_hours'] = np.where(df['trip_seconds'] == 0, 0.01, df['trip_seconds']) / 3600\n",
        "\n",
        "# Get the Average speed from the miles and travel time in hours\n",
        "df['avg_speed_mph'] = round(df['trip_miles'] / df['trip_hours'],4)"
      ]
    },
    {
      "cell_type": "code",
      "source": [
        "important = ['trip_start_timestamp','trip_end_timestamp','trip_seconds','trip_miles','pickup_community_area','dropoff_community_area',\n",
        " 'fare', 'tips','extras','trip_total','payment_type','company','pickup_latitude','pickup_longitude','pickup_location','dropoff_latitude','dropoff_longitude','dropoff_location','trip_hours']"
      ],
      "metadata": {
        "id": "DWr7ccCVb5at"
      },
      "execution_count": null,
      "outputs": []
    },
    {
      "cell_type": "markdown",
      "source": [
        "# **6. Remove extreme outliers**"
      ],
      "metadata": {
        "id": "le5yo-RFhxqb"
      }
    },
    {
      "cell_type": "code",
      "source": [
        "#df.trip_total.hist()\n",
        "#df_no_outlier2.trip_total.hist()\n",
        "#df_no_outlier2.fare.hist()\n",
        "#df_no_outlier3.trip_miles.hist()\n",
        "#df_no_outlier5.avg_speed_mph.hist(bins=100)\n",
        "len(df)"
      ],
      "metadata": {
        "colab": {
          "base_uri": "https://localhost:8080/"
        },
        "id": "40ZtaEvr3v5F",
        "outputId": "7c3fe874-27ec-496a-efb2-3db2494c3c03"
      },
      "execution_count": null,
      "outputs": [
        {
          "output_type": "execute_result",
          "data": {
            "text/plain": [
              "1605996"
            ]
          },
          "metadata": {},
          "execution_count": 32
        }
      ]
    },
    {
      "cell_type": "code",
      "source": [
        "print(\"Current length: \", len(df))\n",
        "\n",
        "#trip_total\n",
        "Q1 = df['trip_total'].quantile(0.10)\n",
        "Q3 = df['trip_total'].quantile(0.90)\n",
        "IQR = Q3 - Q1\n",
        "filter = (df['trip_total'] >= Q1 - 1.5 * IQR) & (df['trip_total'] <= Q3 + 1.5 *IQR)\n",
        "df_no_outlier = df.loc[filter]\n",
        "print(\"Len after removing outlier trip_total: \", len(df_no_outlier))\n",
        "\n",
        "#fare\n",
        "Q1 = df['fare'].quantile(0.10)\n",
        "Q3 = df['fare'].quantile(0.90)\n",
        "IQR = Q3 - Q1\n",
        "\n",
        "filter = (df['fare'] >= Q1 - 1.5 * IQR) & (df['fare'] <= Q3 + 1.5 *IQR)\n",
        "df_no_outlier = df_no_outlier.loc[filter]\n",
        "print(\"Len after removing outlier fare: \", len(df_no_outlier))\n",
        "\n",
        "#trip_miles\n",
        "Q1 = df['trip_miles'].quantile(0.10)\n",
        "Q3 = df['trip_miles'].quantile(0.90)\n",
        "IQR = Q3 - Q1\n",
        "filter = (df['trip_miles'] >= Q1 - 1.5 * IQR) & (df['trip_miles'] <= Q3 + 1.5 *IQR)\n",
        "df_no_outlier = df_no_outlier.loc[filter]\n",
        "print(\"Len after removing outlier trip_miles: \", len(df_no_outlier))\n",
        "\n",
        "#trip_seconds\n",
        "Q1 = df['trip_seconds'].quantile(0.10)\n",
        "Q3 = df['trip_seconds'].quantile(0.90)\n",
        "IQR = Q3 - Q1\n",
        "filter = (df['trip_seconds'] >= Q1 - 1.5 * IQR) & (df['trip_seconds'] <= Q3 + 1.5 *IQR)\n",
        "df_no_outlier = df_no_outlier.loc[filter]\n",
        "print(\"Len after removing outlier trip_seconds: \", len(df_no_outlier))"
      ],
      "metadata": {
        "colab": {
          "base_uri": "https://localhost:8080/"
        },
        "id": "d6xBqPBv3v7E",
        "outputId": "3948cb0f-7e13-478b-e718-e0ba93c1fd39"
      },
      "execution_count": null,
      "outputs": [
        {
          "output_type": "stream",
          "name": "stdout",
          "text": [
            "Current length:  1605996\n",
            "Len after removing outlier trip_total:  1602113\n",
            "Len after removing outlier fare:  1601430\n",
            "Len after removing outlier trip_miles:  1601258\n",
            "Len after removing outlier trip_seconds:  1597812\n"
          ]
        }
      ]
    },
    {
      "cell_type": "code",
      "source": [
        "df_no_outlier.sort_values('extras',ascending=False)[important].head(2)"
      ],
      "metadata": {
        "colab": {
          "base_uri": "https://localhost:8080/",
          "height": 148
        },
        "id": "0L-GIST5aeTR",
        "outputId": "b07988d9-bdca-4aa4-996a-eeb990b59a8f"
      },
      "execution_count": null,
      "outputs": [
        {
          "output_type": "error",
          "ename": "NameError",
          "evalue": "name 'important' is not defined",
          "traceback": [
            "\u001b[0;31m---------------------------------------------------------------------------\u001b[0m",
            "\u001b[0;31mNameError\u001b[0m                                 Traceback (most recent call last)",
            "\u001b[0;32m<ipython-input-16-a9de70453c54>\u001b[0m in \u001b[0;36m<cell line: 1>\u001b[0;34m()\u001b[0m\n\u001b[0;32m----> 1\u001b[0;31m \u001b[0mdf_no_outlier\u001b[0m\u001b[0;34m.\u001b[0m\u001b[0msort_values\u001b[0m\u001b[0;34m(\u001b[0m\u001b[0;34m'extras'\u001b[0m\u001b[0;34m,\u001b[0m\u001b[0mascending\u001b[0m\u001b[0;34m=\u001b[0m\u001b[0;32mFalse\u001b[0m\u001b[0;34m)\u001b[0m\u001b[0;34m[\u001b[0m\u001b[0mimportant\u001b[0m\u001b[0;34m]\u001b[0m\u001b[0;34m.\u001b[0m\u001b[0mhead\u001b[0m\u001b[0;34m(\u001b[0m\u001b[0;36m2\u001b[0m\u001b[0;34m)\u001b[0m\u001b[0;34m\u001b[0m\u001b[0;34m\u001b[0m\u001b[0m\n\u001b[0m",
            "\u001b[0;31mNameError\u001b[0m: name 'important' is not defined"
          ]
        }
      ]
    },
    {
      "cell_type": "code",
      "source": [
        "# Create a figure with 6 subplots, each having 2 columns\n",
        "fig, axs = plt.subplots(6, 2, figsize=(10,20))\n",
        "\n",
        "# List of columns to plot\n",
        "columns = ['trip_total', 'fare', 'trip_miles', 'trip_seconds', 'tips', 'extras']\n",
        "colors = ['blue', 'green', 'red', 'purple', 'orange', 'pink']\n",
        "\n",
        "# Plot histogram for each column before and after removing outliers\n",
        "for i, column in enumerate(columns):\n",
        "    # Before removing outliers\n",
        "    axs[i, 0].hist(df[column], bins=50, color=colors[i], alpha=0.7)\n",
        "    axs[i, 0].set_title(f'Before: Histogram of {column.title()}')\n",
        "    axs[i, 0].set_xlabel(column.title())\n",
        "    axs[i, 0].set_ylabel('Frequency')\n",
        "\n",
        "    # After removing outliers\n",
        "    axs[i, 1].hist(df_no_outlier[column], bins=50, color=colors[i], alpha=0.7)\n",
        "    axs[i, 1].set_title(f'After: Histogram of {column.title()}')\n",
        "    axs[i, 1].set_xlabel(column.title())\n",
        "    axs[i, 1].set_ylabel('Frequency')\n",
        "\n",
        "# Display the plots\n",
        "plt.tight_layout()\n",
        "plt.show()"
      ],
      "metadata": {
        "colab": {
          "base_uri": "https://localhost:8080/",
          "height": 1000
        },
        "id": "D31A6c3F4gIU",
        "outputId": "c7c053b1-550f-4433-ceae-d6903962ba06"
      },
      "execution_count": null,
      "outputs": [
        {
          "output_type": "display_data",
          "data": {
            "text/plain": [
              "<Figure size 1000x2000 with 12 Axes>"
            ],
            "image/png": "[encoded data removed]"
          },
          "metadata": {}
        }
      ]
    },
    {
      "cell_type": "markdown",
      "source": [
        "# **7. Mark trips that potentially have recording errors**\n",
        "After imputation and filtering efforts, there are still trips that seem like they did occur but there are meter recording errors. We create a new column to mark that. Specifically, rows with potentially recording-errored distance, duration, and cost.\n",
        "- Cost-related anomalies: Checked trip_totals = sum(other costs) - no rows have difference > 4 so it is ok to leave as is\n",
        "- Timestamp: there are some rows with trip_start_timestamp > trip_end_timestamp - these are the ones that have null trip_seconds -> we already dealt with them\n",
        "- **Flag is_error = True for records with (df['avg_speed_mph'] < 1) or (df['avg_speed_mph'] > 80)** - this covers records with trip_miles = 0 or trip_records = 0"
      ],
      "metadata": {
        "id": "dbnh9n6plWZw"
      }
    },
    {
      "cell_type": "code",
      "source": [
        "df_no_outlier['record_error'] = (df_no_outlier['avg_speed_mph'] < 3) | (df_no_outlier['avg_speed_mph'] > 80)\n",
        "df_no_outlier.record_error.sum()\n",
        "#201695"
      ],
      "metadata": {
        "id": "mXNd5uK8nB4X",
        "colab": {
          "base_uri": "https://localhost:8080/"
        },
        "outputId": "7d6d2656-6dbd-4664-adb0-ee378f0a5cbd"
      },
      "execution_count": null,
      "outputs": [
        {
          "output_type": "execute_result",
          "data": {
            "text/plain": [
              "201695"
            ]
          },
          "metadata": {},
          "execution_count": 17
        }
      ]
    },
    {
      "cell_type": "markdown",
      "source": [
        "# **8. Get region names**"
      ],
      "metadata": {
        "id": "cEizYAMGSJaX"
      }
    },
    {
      "cell_type": "code",
      "source": [
        "geojson_df['area_num_1'] = geojson_df['area_num_1'].astype('float64').astype('category')\n",
        "geojson_df['community'] = geojson_df['community'].str.title()\n",
        "geojson_df['region'] = geojson_df['region'].str.replace('and', '&').str.replace('Side', '').str.strip()\n",
        "geojson_df.area_num_1\n",
        "geojson_df.head(2)"
      ],
      "metadata": {
        "colab": {
          "base_uri": "https://localhost:8080/",
          "height": 112
        },
        "id": "yaLdJeUHSQ6n",
        "outputId": "8169f4cc-4692-41ad-fde6-b0a9bd2868f8"
      },
      "execution_count": null,
      "outputs": [
        {
          "output_type": "execute_result",
          "data": {
            "text/plain": [
              "  community area     shape_area perimeter area_num_1 area_numbe comarea_id  \\\n",
              "0   Douglas    0  46004621.1581         0       35.0         35          0   \n",
              "1   Oakland    0  16913961.0408         0       36.0         36          0   \n",
              "\n",
              "  comarea      shape_len region  \n",
              "0       0  31027.0545098  South  \n",
              "1       0  19565.5061533  South  "
            ],
            "text/html": [
              "\n",
              "  <div id=\"df-4acc54c6-18a4-443d-a8f8-acc61852c7b7\" class=\"colab-df-container\">\n",
              "    <div>\n",
              "<style scoped>\n",
              "    .dataframe tbody tr th:only-of-type {\n",
              "        vertical-align: middle;\n",
              "    }\n",
              "\n",
              "    .dataframe tbody tr th {\n",
              "        vertical-align: top;\n",
              "    }\n",
              "\n",
              "    .dataframe thead th {\n",
              "        text-align: right;\n",
              "    }\n",
              "</style>\n",
              "<table border=\"1\" class=\"dataframe\">\n",
              "  <thead>\n",
              "    <tr style=\"text-align: right;\">\n",
              "      <th></th>\n",
              "      <th>community</th>\n",
              "      <th>area</th>\n",
              "      <th>shape_area</th>\n",
              "      <th>perimeter</th>\n",
              "      <th>area_num_1</th>\n",
              "      <th>area_numbe</th>\n",
              "      <th>comarea_id</th>\n",
              "      <th>comarea</th>\n",
              "      <th>shape_len</th>\n",
              "      <th>region</th>\n",
              "    </tr>\n",
              "  </thead>\n",
              "  <tbody>\n",
              "    <tr>\n",
              "      <th>0</th>\n",
              "      <td>Douglas</td>\n",
              "      <td>0</td>\n",
              "      <td>46004621.1581</td>\n",
              "      <td>0</td>\n",
              "      <td>35.0</td>\n",
              "      <td>35</td>\n",
              "      <td>0</td>\n",
              "      <td>0</td>\n",
              "      <td>31027.0545098</td>\n",
              "      <td>South</td>\n",
              "    </tr>\n",
              "    <tr>\n",
              "      <th>1</th>\n",
              "      <td>Oakland</td>\n",
              "      <td>0</td>\n",
              "      <td>16913961.0408</td>\n",
              "      <td>0</td>\n",
              "      <td>36.0</td>\n",
              "      <td>36</td>\n",
              "      <td>0</td>\n",
              "      <td>0</td>\n",
              "      <td>19565.5061533</td>\n",
              "      <td>South</td>\n",
              "    </tr>\n",
              "  </tbody>\n",
              "</table>\n",
              "</div>\n",
              "    <div class=\"colab-df-buttons\">\n",
              "\n",
              "  <div class=\"colab-df-container\">\n",
              "    <button class=\"colab-df-convert\" onclick=\"convertToInteractive('df-4acc54c6-18a4-443d-a8f8-acc61852c7b7')\"\n",
              "            title=\"Convert this dataframe to an interactive table.\"\n",
              "            style=\"display:none;\">\n",
              "\n",
              "  <svg xmlns=\"http://www.w3.org/2000/svg\" height=\"24px\" viewBox=\"0 -960 960 960\">\n",
              "    <path d=\"M120-120v-720h720v720H120Zm60-500h600v-160H180v160Zm220 220h160v-160H400v160Zm0 220h160v-160H400v160ZM180-400h160v-160H180v160Zm440 0h160v-160H620v160ZM180-180h160v-160H180v160Zm440 0h160v-160H620v160Z\"/>\n",
              "  </svg>\n",
              "    </button>\n",
              "\n",
              "  <style>\n",
              "    .colab-df-container {\n",
              "      display:flex;\n",
              "      gap: 12px;\n",
              "    }\n",
              "\n",
              "    .colab-df-convert {\n",
              "      background-color: #E8F0FE;\n",
              "      border: none;\n",
              "      border-radius: 50%;\n",
              "      cursor: pointer;\n",
              "      display: none;\n",
              "      fill: #1967D2;\n",
              "      height: 32px;\n",
              "      padding: 0 0 0 0;\n",
              "      width: 32px;\n",
              "    }\n",
              "\n",
              "    .colab-df-convert:hover {\n",
              "      background-color: #E2EBFA;\n",
              "      box-shadow: 0px 1px 2px rgba(60, 64, 67, 0.3), 0px 1px 3px 1px rgba(60, 64, 67, 0.15);\n",
              "      fill: #174EA6;\n",
              "    }\n",
              "\n",
              "    .colab-df-buttons div {\n",
              "      margin-bottom: 4px;\n",
              "    }\n",
              "\n",
              "    [theme=dark] .colab-df-convert {\n",
              "      background-color: #3B4455;\n",
              "      fill: #D2E3FC;\n",
              "    }\n",
              "\n",
              "    [theme=dark] .colab-df-convert:hover {\n",
              "      background-color: #434B5C;\n",
              "      box-shadow: 0px 1px 3px 1px rgba(0, 0, 0, 0.15);\n",
              "      filter: drop-shadow(0px 1px 2px rgba(0, 0, 0, 0.3));\n",
              "      fill: #FFFFFF;\n",
              "    }\n",
              "  </style>\n",
              "\n",
              "    <script>\n",
              "      const buttonEl =\n",
              "        document.querySelector('#df-4acc54c6-18a4-443d-a8f8-acc61852c7b7 button.colab-df-convert');\n",
              "      buttonEl.style.display =\n",
              "        google.colab.kernel.accessAllowed ? 'block' : 'none';\n",
              "\n",
              "      async function convertToInteractive(key) {\n",
              "        const element = document.querySelector('#df-4acc54c6-18a4-443d-a8f8-acc61852c7b7');\n",
              "        const dataTable =\n",
              "          await google.colab.kernel.invokeFunction('convertToInteractive',\n",
              "                                                    [key], {});\n",
              "        if (!dataTable) return;\n",
              "\n",
              "        const docLinkHtml = 'Like what you see? Visit the ' +\n",
              "          '<a target=\"_blank\" href=https://colab.research.google.com/notebooks/data_table.ipynb>data table notebook</a>'\n",
              "          + ' to learn more about interactive tables.';\n",
              "        element.innerHTML = '';\n",
              "        dataTable['output_type'] = 'display_data';\n",
              "        await google.colab.output.renderOutput(dataTable, element);\n",
              "        const docLink = document.createElement('div');\n",
              "        docLink.innerHTML = docLinkHtml;\n",
              "        element.appendChild(docLink);\n",
              "      }\n",
              "    </script>\n",
              "  </div>\n",
              "\n",
              "\n",
              "<div id=\"df-4bde42ba-fd2c-4071-a302-03f332c89a56\">\n",
              "  <button class=\"colab-df-quickchart\" onclick=\"quickchart('df-4bde42ba-fd2c-4071-a302-03f332c89a56')\"\n",
              "            title=\"Suggest charts\"\n",
              "            style=\"display:none;\">\n",
              "\n",
              "<svg xmlns=\"http://www.w3.org/2000/svg\" height=\"24px\"viewBox=\"0 0 24 24\"\n",
              "     width=\"24px\">\n",
              "    <g>\n",
              "        <path d=\"M19 3H5c-1.1 0-2 .9-2 2v14c0 1.1.9 2 2 2h14c1.1 0 2-.9 2-2V5c0-1.1-.9-2-2-2zM9 17H7v-7h2v7zm4 0h-2V7h2v10zm4 0h-2v-4h2v4z\"/>\n",
              "    </g>\n",
              "</svg>\n",
              "  </button>\n",
              "\n",
              "<style>\n",
              "  .colab-df-quickchart {\n",
              "      --bg-color: #E8F0FE;\n",
              "      --fill-color: #1967D2;\n",
              "      --hover-bg-color: #E2EBFA;\n",
              "      --hover-fill-color: #174EA6;\n",
              "      --disabled-fill-color: #AAA;\n",
              "      --disabled-bg-color: #DDD;\n",
              "  }\n",
              "\n",
              "  [theme=dark] .colab-df-quickchart {\n",
              "      --bg-color: #3B4455;\n",
              "      --fill-color: #D2E3FC;\n",
              "      --hover-bg-color: #434B5C;\n",
              "      --hover-fill-color: #FFFFFF;\n",
              "      --disabled-bg-color: #3B4455;\n",
              "      --disabled-fill-color: #666;\n",
              "  }\n",
              "\n",
              "  .colab-df-quickchart {\n",
              "    background-color: var(--bg-color);\n",
              "    border: none;\n",
              "    border-radius: 50%;\n",
              "    cursor: pointer;\n",
              "    display: none;\n",
              "    fill: var(--fill-color);\n",
              "    height: 32px;\n",
              "    padding: 0;\n",
              "    width: 32px;\n",
              "  }\n",
              "\n",
              "  .colab-df-quickchart:hover {\n",
              "    background-color: var(--hover-bg-color);\n",
              "    box-shadow: 0 1px 2px rgba(60, 64, 67, 0.3), 0 1px 3px 1px rgba(60, 64, 67, 0.15);\n",
              "    fill: var(--button-hover-fill-color);\n",
              "  }\n",
              "\n",
              "  .colab-df-quickchart-complete:disabled,\n",
              "  .colab-df-quickchart-complete:disabled:hover {\n",
              "    background-color: var(--disabled-bg-color);\n",
              "    fill: var(--disabled-fill-color);\n",
              "    box-shadow: none;\n",
              "  }\n",
              "\n",
              "  .colab-df-spinner {\n",
              "    border: 2px solid var(--fill-color);\n",
              "    border-color: transparent;\n",
              "    border-bottom-color: var(--fill-color);\n",
              "    animation:\n",
              "      spin 1s steps(1) infinite;\n",
              "  }\n",
              "\n",
              "  @keyframes spin {\n",
              "    0% {\n",
              "      border-color: transparent;\n",
              "      border-bottom-color: var(--fill-color);\n",
              "      border-left-color: var(--fill-color);\n",
              "    }\n",
              "    20% {\n",
              "      border-color: transparent;\n",
              "      border-left-color: var(--fill-color);\n",
              "      border-top-color: var(--fill-color);\n",
              "    }\n",
              "    30% {\n",
              "      border-color: transparent;\n",
              "      border-left-color: var(--fill-color);\n",
              "      border-top-color: var(--fill-color);\n",
              "      border-right-color: var(--fill-color);\n",
              "    }\n",
              "    40% {\n",
              "      border-color: transparent;\n",
              "      border-right-color: var(--fill-color);\n",
              "      border-top-color: var(--fill-color);\n",
              "    }\n",
              "    60% {\n",
              "      border-color: transparent;\n",
              "      border-right-color: var(--fill-color);\n",
              "    }\n",
              "    80% {\n",
              "      border-color: transparent;\n",
              "      border-right-color: var(--fill-color);\n",
              "      border-bottom-color: var(--fill-color);\n",
              "    }\n",
              "    90% {\n",
              "      border-color: transparent;\n",
              "      border-bottom-color: var(--fill-color);\n",
              "    }\n",
              "  }\n",
              "</style>\n",
              "\n",
              "  <script>\n",
              "    async function quickchart(key) {\n",
              "      const quickchartButtonEl =\n",
              "        document.querySelector('#' + key + ' button');\n",
              "      quickchartButtonEl.disabled = true;  // To prevent multiple clicks.\n",
              "      quickchartButtonEl.classList.add('colab-df-spinner');\n",
              "      try {\n",
              "        const charts = await google.colab.kernel.invokeFunction(\n",
              "            'suggestCharts', [key], {});\n",
              "      } catch (error) {\n",
              "        console.error('Error during call to suggestCharts:', error);\n",
              "      }\n",
              "      quickchartButtonEl.classList.remove('colab-df-spinner');\n",
              "      quickchartButtonEl.classList.add('colab-df-quickchart-complete');\n",
              "    }\n",
              "    (() => {\n",
              "      let quickchartButtonEl =\n",
              "        document.querySelector('#df-4bde42ba-fd2c-4071-a302-03f332c89a56 button');\n",
              "      quickchartButtonEl.style.display =\n",
              "        google.colab.kernel.accessAllowed ? 'block' : 'none';\n",
              "    })();\n",
              "  </script>\n",
              "</div>\n",
              "\n",
              "    </div>\n",
              "  </div>\n"
            ],
            "application/vnd.google.colaboratory.intrinsic+json": {
              "type": "dataframe",
              "variable_name": "geojson_df",
              "summary": "{\n  \"name\": \"geojson_df\",\n  \"rows\": 77,\n  \"fields\": [\n    {\n      \"column\": \"community\",\n      \"properties\": {\n        \"dtype\": \"string\",\n        \"num_unique_values\": 77,\n        \"samples\": [\n          \"Kenwood\",\n          \"Norwood Park\",\n          \"Jefferson Park\"\n        ],\n        \"semantic_type\": \"\",\n        \"description\": \"\"\n      }\n    },\n    {\n      \"column\": \"area\",\n      \"properties\": {\n        \"dtype\": \"category\",\n        \"num_unique_values\": 1,\n        \"samples\": [\n          \"0\"\n        ],\n        \"semantic_type\": \"\",\n        \"description\": \"\"\n      }\n    },\n    {\n      \"column\": \"shape_area\",\n      \"properties\": {\n        \"dtype\": \"string\",\n        \"num_unique_values\": 77,\n        \"samples\": [\n          \"29071741.9283\"\n        ],\n        \"semantic_type\": \"\",\n        \"description\": \"\"\n      }\n    },\n    {\n      \"column\": \"perimeter\",\n      \"properties\": {\n        \"dtype\": \"category\",\n        \"num_unique_values\": 1,\n        \"samples\": [\n          \"0\"\n        ],\n        \"semantic_type\": \"\",\n        \"description\": \"\"\n      }\n    },\n    {\n      \"column\": \"area_num_1\",\n      \"properties\": {\n        \"dtype\": \"category\",\n        \"num_unique_values\": 77,\n        \"samples\": [\n          39.0\n        ],\n        \"semantic_type\": \"\",\n        \"description\": \"\"\n      }\n    },\n    {\n      \"column\": \"area_numbe\",\n      \"properties\": {\n        \"dtype\": \"string\",\n        \"num_unique_values\": 77,\n        \"samples\": [\n          \"39\"\n        ],\n        \"semantic_type\": \"\",\n        \"description\": \"\"\n      }\n    },\n    {\n      \"column\": \"comarea_id\",\n      \"properties\": {\n        \"dtype\": \"category\",\n        \"num_unique_values\": 1,\n        \"samples\": [\n          \"0\"\n        ],\n        \"semantic_type\": \"\",\n        \"description\": \"\"\n      }\n    },\n    {\n      \"column\": \"comarea\",\n      \"properties\": {\n        \"dtype\": \"category\",\n        \"num_unique_values\": 1,\n        \"samples\": [\n          \"0\"\n        ],\n        \"semantic_type\": \"\",\n        \"description\": \"\"\n      }\n    },\n    {\n      \"column\": \"shape_len\",\n      \"properties\": {\n        \"dtype\": \"string\",\n        \"num_unique_values\": 77,\n        \"samples\": [\n          \"23325.1679062\"\n        ],\n        \"semantic_type\": \"\",\n        \"description\": \"\"\n      }\n    },\n    {\n      \"column\": \"region\",\n      \"properties\": {\n        \"dtype\": \"category\",\n        \"num_unique_values\": 9,\n        \"samples\": [\n          \"Southwest\"\n        ],\n        \"semantic_type\": \"\",\n        \"description\": \"\"\n      }\n    }\n  ]\n}"
            }
          },
          "metadata": {},
          "execution_count": 18
        }
      ]
    },
    {
      "cell_type": "code",
      "source": [
        "print(len(df_no_outlier))\n",
        "# Selecting required columns from geojson_df\n",
        "lookup_ca = geojson_df[['community', 'area_num_1', 'region']]\n",
        "\n",
        "# Performing the left join\n",
        "df_no_outlier = pd.merge(df_no_outlier, lookup_ca, how='left', left_on='pickup_community_area', right_on='area_num_1')\n",
        "# Dropping the redundant 'area_num_1' column\n",
        "df_no_outlier.drop(columns='area_num_1', inplace=True)\n",
        "df_no_outlier.rename(columns={'region': 'pickup_region', 'community': 'pickup_ca_name'}, inplace=True)\n",
        "\n",
        "# Performing the left join\n",
        "df_no_outlier = pd.merge(df_no_outlier, lookup_ca, how='left', left_on='dropoff_community_area', right_on='area_num_1')\n",
        "# Dropping the redundant 'area_num_1' column\n",
        "df_no_outlier.drop(columns='area_num_1', inplace=True)\n",
        "df_no_outlier.rename(columns={'region': 'dropoff_region', 'community': 'dropoff_ca_name'}, inplace=True)\n",
        "\n",
        "print(len(df_no_outlier))"
      ],
      "metadata": {
        "colab": {
          "base_uri": "https://localhost:8080/"
        },
        "id": "rKNnLSy5VKv8",
        "outputId": "30f9070f-511f-49b7-b09c-fe5f07825940"
      },
      "execution_count": null,
      "outputs": [
        {
          "output_type": "stream",
          "name": "stdout",
          "text": [
            "1597812\n",
            "1597812\n"
          ]
        }
      ]
    },
    {
      "cell_type": "code",
      "source": [
        "df_no_outlier.head()"
      ],
      "metadata": {
        "colab": {
          "base_uri": "https://localhost:8080/",
          "height": 325
        },
        "id": "I1asyTXVpAJ3",
        "outputId": "ddce3740-7aba-4f38-94d1-97b2fbc57182"
      },
      "execution_count": null,
      "outputs": [
        {
          "output_type": "execute_result",
          "data": {
            "text/plain": [
              "                                 unique_key  \\\n",
              "0  9e805296dc64928e9766a98bc9337fbf8b933d75   \n",
              "1  9d25380e55aec4162fb8cb6938e66c71f5599cc5   \n",
              "2  9adfb855a4e5465ebddeac182ee561a328eb0c86   \n",
              "3  9a679dc37796cc45390cf13cf93ec1dc927eb35d   \n",
              "4  9fb21f2b4891a4575512aa647507d5ef1e91727e   \n",
              "\n",
              "                                             taxi_id trip_start_timestamp  \\\n",
              "0  4c658dc5e7ea935f4c3bb9a3071f509efac3e99c93f6a6...  2023-10-06 09:30:00   \n",
              "1  af54b850307713709ad002df059e2951e541401d6effc5...  2023-10-20 11:30:00   \n",
              "2  a79d72d3d49bed13558577cc0608caf7e8da5b9cee67b6...  2023-10-01 11:30:00   \n",
              "3  ebceb13997c9b897ffb47cbed8248f9a3de1c432e03f31...  2023-10-06 06:15:00   \n",
              "4  ba0951d06c2db8c1623eaee9b2a34434c045baae41d5c7...  2023-10-08 10:15:00   \n",
              "\n",
              "   trip_end_timestamp  trip_seconds  trip_miles pickup_community_area  \\\n",
              "0 2023-10-06 09:30:00         639.0        1.41                   8.0   \n",
              "1 2023-10-20 11:30:00         509.0        1.66                   8.0   \n",
              "2 2023-10-01 12:00:00        1688.0        9.65                  70.0   \n",
              "3 2023-10-06 06:30:00        1021.0        6.04                   1.0   \n",
              "4 2023-10-08 10:45:00        1008.0       10.54                  37.0   \n",
              "\n",
              "  dropoff_community_area   fare  tips  ...  is_weekend  month   period_start  \\\n",
              "0                    8.0   8.00  0.00  ...           0     10   Morning Rush   \n",
              "1                   32.0   7.75  2.00  ...           0     10         Midday   \n",
              "2                   49.0  27.00  0.00  ...           1     10         Midday   \n",
              "3                    6.0  16.75  4.13  ...           0     10  Early Morning   \n",
              "4                   48.0  27.75  0.00  ...           1     10         Midday   \n",
              "\n",
              "  trip_hours  avg_speed_mph  record_error   pickup_ca_name  \\\n",
              "0   0.177500         7.9437         False  Near North Side   \n",
              "1   0.141389        11.7407         False  Near North Side   \n",
              "2   0.468889        20.5806         False          Ashburn   \n",
              "3   0.283611        21.2968         False      Rogers Park   \n",
              "4   0.280000        37.6429         False      Fuller Park   \n",
              "\n",
              "                       pickup_region  dropoff_ca_name  \\\n",
              "0  Central, Near North, & Near South  Near North Side   \n",
              "1  Central, Near North, & Near South             Loop   \n",
              "2                      Far Southwest         Roseland   \n",
              "3                          Far North        Lake View   \n",
              "4                              South  Calumet Heights   \n",
              "\n",
              "                      dropoff_region  \n",
              "0  Central, Near North, & Near South  \n",
              "1  Central, Near North, & Near South  \n",
              "2                          Far South  \n",
              "3                              North  \n",
              "4                          Far South  \n",
              "\n",
              "[5 rows x 32 columns]"
            ],
            "text/html": [
              "\n",
              "  <div id=\"df-60686bc3-84b1-480e-8bc5-ede725fcf44b\" class=\"colab-df-container\">\n",
              "    <div>\n",
              "<style scoped>\n",
              "    .dataframe tbody tr th:only-of-type {\n",
              "        vertical-align: middle;\n",
              "    }\n",
              "\n",
              "    .dataframe tbody tr th {\n",
              "        vertical-align: top;\n",
              "    }\n",
              "\n",
              "    .dataframe thead th {\n",
              "        text-align: right;\n",
              "    }\n",
              "</style>\n",
              "<table border=\"1\" class=\"dataframe\">\n",
              "  <thead>\n",
              "    <tr style=\"text-align: right;\">\n",
              "      <th></th>\n",
              "      <th>unique_key</th>\n",
              "      <th>taxi_id</th>\n",
              "      <th>trip_start_timestamp</th>\n",
              "      <th>trip_end_timestamp</th>\n",
              "      <th>trip_seconds</th>\n",
              "      <th>trip_miles</th>\n",
              "      <th>pickup_community_area</th>\n",
              "      <th>dropoff_community_area</th>\n",
              "      <th>fare</th>\n",
              "      <th>tips</th>\n",
              "      <th>...</th>\n",
              "      <th>is_weekend</th>\n",
              "      <th>month</th>\n",
              "      <th>period_start</th>\n",
              "      <th>trip_hours</th>\n",
              "      <th>avg_speed_mph</th>\n",
              "      <th>record_error</th>\n",
              "      <th>pickup_ca_name</th>\n",
              "      <th>pickup_region</th>\n",
              "      <th>dropoff_ca_name</th>\n",
              "      <th>dropoff_region</th>\n",
              "    </tr>\n",
              "  </thead>\n",
              "  <tbody>\n",
              "    <tr>\n",
              "      <th>0</th>\n",
              "      <td>9e805296dc64928e9766a98bc9337fbf8b933d75</td>\n",
              "      <td>4c658dc5e7ea935f4c3bb9a3071f509efac3e99c93f6a6...</td>\n",
              "      <td>2023-10-06 09:30:00</td>\n",
              "      <td>2023-10-06 09:30:00</td>\n",
              "      <td>639.0</td>\n",
              "      <td>1.41</td>\n",
              "      <td>8.0</td>\n",
              "      <td>8.0</td>\n",
              "      <td>8.00</td>\n",
              "      <td>0.00</td>\n",
              "      <td>...</td>\n",
              "      <td>0</td>\n",
              "      <td>10</td>\n",
              "      <td>Morning Rush</td>\n",
              "      <td>0.177500</td>\n",
              "      <td>7.9437</td>\n",
              "      <td>False</td>\n",
              "      <td>Near North Side</td>\n",
              "      <td>Central, Near North, &amp; Near South</td>\n",
              "      <td>Near North Side</td>\n",
              "      <td>Central, Near North, &amp; Near South</td>\n",
              "    </tr>\n",
              "    <tr>\n",
              "      <th>1</th>\n",
              "      <td>9d25380e55aec4162fb8cb6938e66c71f5599cc5</td>\n",
              "      <td>af54b850307713709ad002df059e2951e541401d6effc5...</td>\n",
              "      <td>2023-10-20 11:30:00</td>\n",
              "      <td>2023-10-20 11:30:00</td>\n",
              "      <td>509.0</td>\n",
              "      <td>1.66</td>\n",
              "      <td>8.0</td>\n",
              "      <td>32.0</td>\n",
              "      <td>7.75</td>\n",
              "      <td>2.00</td>\n",
              "      <td>...</td>\n",
              "      <td>0</td>\n",
              "      <td>10</td>\n",
              "      <td>Midday</td>\n",
              "      <td>0.141389</td>\n",
              "      <td>11.7407</td>\n",
              "      <td>False</td>\n",
              "      <td>Near North Side</td>\n",
              "      <td>Central, Near North, &amp; Near South</td>\n",
              "      <td>Loop</td>\n",
              "      <td>Central, Near North, &amp; Near South</td>\n",
              "    </tr>\n",
              "    <tr>\n",
              "      <th>2</th>\n",
              "      <td>9adfb855a4e5465ebddeac182ee561a328eb0c86</td>\n",
              "      <td>a79d72d3d49bed13558577cc0608caf7e8da5b9cee67b6...</td>\n",
              "      <td>2023-10-01 11:30:00</td>\n",
              "      <td>2023-10-01 12:00:00</td>\n",
              "      <td>1688.0</td>\n",
              "      <td>9.65</td>\n",
              "      <td>70.0</td>\n",
              "      <td>49.0</td>\n",
              "      <td>27.00</td>\n",
              "      <td>0.00</td>\n",
              "      <td>...</td>\n",
              "      <td>1</td>\n",
              "      <td>10</td>\n",
              "      <td>Midday</td>\n",
              "      <td>0.468889</td>\n",
              "      <td>20.5806</td>\n",
              "      <td>False</td>\n",
              "      <td>Ashburn</td>\n",
              "      <td>Far Southwest</td>\n",
              "      <td>Roseland</td>\n",
              "      <td>Far South</td>\n",
              "    </tr>\n",
              "    <tr>\n",
              "      <th>3</th>\n",
              "      <td>9a679dc37796cc45390cf13cf93ec1dc927eb35d</td>\n",
              "      <td>ebceb13997c9b897ffb47cbed8248f9a3de1c432e03f31...</td>\n",
              "      <td>2023-10-06 06:15:00</td>\n",
              "      <td>2023-10-06 06:30:00</td>\n",
              "      <td>1021.0</td>\n",
              "      <td>6.04</td>\n",
              "      <td>1.0</td>\n",
              "      <td>6.0</td>\n",
              "      <td>16.75</td>\n",
              "      <td>4.13</td>\n",
              "      <td>...</td>\n",
              "      <td>0</td>\n",
              "      <td>10</td>\n",
              "      <td>Early Morning</td>\n",
              "      <td>0.283611</td>\n",
              "      <td>21.2968</td>\n",
              "      <td>False</td>\n",
              "      <td>Rogers Park</td>\n",
              "      <td>Far North</td>\n",
              "      <td>Lake View</td>\n",
              "      <td>North</td>\n",
              "    </tr>\n",
              "    <tr>\n",
              "      <th>4</th>\n",
              "      <td>9fb21f2b4891a4575512aa647507d5ef1e91727e</td>\n",
              "      <td>ba0951d06c2db8c1623eaee9b2a34434c045baae41d5c7...</td>\n",
              "      <td>2023-10-08 10:15:00</td>\n",
              "      <td>2023-10-08 10:45:00</td>\n",
              "      <td>1008.0</td>\n",
              "      <td>10.54</td>\n",
              "      <td>37.0</td>\n",
              "      <td>48.0</td>\n",
              "      <td>27.75</td>\n",
              "      <td>0.00</td>\n",
              "      <td>...</td>\n",
              "      <td>1</td>\n",
              "      <td>10</td>\n",
              "      <td>Midday</td>\n",
              "      <td>0.280000</td>\n",
              "      <td>37.6429</td>\n",
              "      <td>False</td>\n",
              "      <td>Fuller Park</td>\n",
              "      <td>South</td>\n",
              "      <td>Calumet Heights</td>\n",
              "      <td>Far South</td>\n",
              "    </tr>\n",
              "  </tbody>\n",
              "</table>\n",
              "<p>5 rows × 32 columns</p>\n",
              "</div>\n",
              "    <div class=\"colab-df-buttons\">\n",
              "\n",
              "  <div class=\"colab-df-container\">\n",
              "    <button class=\"colab-df-convert\" onclick=\"convertToInteractive('df-60686bc3-84b1-480e-8bc5-ede725fcf44b')\"\n",
              "            title=\"Convert this dataframe to an interactive table.\"\n",
              "            style=\"display:none;\">\n",
              "\n",
              "  <svg xmlns=\"http://www.w3.org/2000/svg\" height=\"24px\" viewBox=\"0 -960 960 960\">\n",
              "    <path d=\"M120-120v-720h720v720H120Zm60-500h600v-160H180v160Zm220 220h160v-160H400v160Zm0 220h160v-160H400v160ZM180-400h160v-160H180v160Zm440 0h160v-160H620v160ZM180-180h160v-160H180v160Zm440 0h160v-160H620v160Z\"/>\n",
              "  </svg>\n",
              "    </button>\n",
              "\n",
              "  <style>\n",
              "    .colab-df-container {\n",
              "      display:flex;\n",
              "      gap: 12px;\n",
              "    }\n",
              "\n",
              "    .colab-df-convert {\n",
              "      background-color: #E8F0FE;\n",
              "      border: none;\n",
              "      border-radius: 50%;\n",
              "      cursor: pointer;\n",
              "      display: none;\n",
              "      fill: #1967D2;\n",
              "      height: 32px;\n",
              "      padding: 0 0 0 0;\n",
              "      width: 32px;\n",
              "    }\n",
              "\n",
              "    .colab-df-convert:hover {\n",
              "      background-color: #E2EBFA;\n",
              "      box-shadow: 0px 1px 2px rgba(60, 64, 67, 0.3), 0px 1px 3px 1px rgba(60, 64, 67, 0.15);\n",
              "      fill: #174EA6;\n",
              "    }\n",
              "\n",
              "    .colab-df-buttons div {\n",
              "      margin-bottom: 4px;\n",
              "    }\n",
              "\n",
              "    [theme=dark] .colab-df-convert {\n",
              "      background-color: #3B4455;\n",
              "      fill: #D2E3FC;\n",
              "    }\n",
              "\n",
              "    [theme=dark] .colab-df-convert:hover {\n",
              "      background-color: #434B5C;\n",
              "      box-shadow: 0px 1px 3px 1px rgba(0, 0, 0, 0.15);\n",
              "      filter: drop-shadow(0px 1px 2px rgba(0, 0, 0, 0.3));\n",
              "      fill: #FFFFFF;\n",
              "    }\n",
              "  </style>\n",
              "\n",
              "    <script>\n",
              "      const buttonEl =\n",
              "        document.querySelector('#df-60686bc3-84b1-480e-8bc5-ede725fcf44b button.colab-df-convert');\n",
              "      buttonEl.style.display =\n",
              "        google.colab.kernel.accessAllowed ? 'block' : 'none';\n",
              "\n",
              "      async function convertToInteractive(key) {\n",
              "        const element = document.querySelector('#df-60686bc3-84b1-480e-8bc5-ede725fcf44b');\n",
              "        const dataTable =\n",
              "          await google.colab.kernel.invokeFunction('convertToInteractive',\n",
              "                                                    [key], {});\n",
              "        if (!dataTable) return;\n",
              "\n",
              "        const docLinkHtml = 'Like what you see? Visit the ' +\n",
              "          '<a target=\"_blank\" href=https://colab.research.google.com/notebooks/data_table.ipynb>data table notebook</a>'\n",
              "          + ' to learn more about interactive tables.';\n",
              "        element.innerHTML = '';\n",
              "        dataTable['output_type'] = 'display_data';\n",
              "        await google.colab.output.renderOutput(dataTable, element);\n",
              "        const docLink = document.createElement('div');\n",
              "        docLink.innerHTML = docLinkHtml;\n",
              "        element.appendChild(docLink);\n",
              "      }\n",
              "    </script>\n",
              "  </div>\n",
              "\n",
              "\n",
              "<div id=\"df-a100b429-8a09-414e-9746-90b23b91c914\">\n",
              "  <button class=\"colab-df-quickchart\" onclick=\"quickchart('df-a100b429-8a09-414e-9746-90b23b91c914')\"\n",
              "            title=\"Suggest charts\"\n",
              "            style=\"display:none;\">\n",
              "\n",
              "<svg xmlns=\"http://www.w3.org/2000/svg\" height=\"24px\"viewBox=\"0 0 24 24\"\n",
              "     width=\"24px\">\n",
              "    <g>\n",
              "        <path d=\"M19 3H5c-1.1 0-2 .9-2 2v14c0 1.1.9 2 2 2h14c1.1 0 2-.9 2-2V5c0-1.1-.9-2-2-2zM9 17H7v-7h2v7zm4 0h-2V7h2v10zm4 0h-2v-4h2v4z\"/>\n",
              "    </g>\n",
              "</svg>\n",
              "  </button>\n",
              "\n",
              "<style>\n",
              "  .colab-df-quickchart {\n",
              "      --bg-color: #E8F0FE;\n",
              "      --fill-color: #1967D2;\n",
              "      --hover-bg-color: #E2EBFA;\n",
              "      --hover-fill-color: #174EA6;\n",
              "      --disabled-fill-color: #AAA;\n",
              "      --disabled-bg-color: #DDD;\n",
              "  }\n",
              "\n",
              "  [theme=dark] .colab-df-quickchart {\n",
              "      --bg-color: #3B4455;\n",
              "      --fill-color: #D2E3FC;\n",
              "      --hover-bg-color: #434B5C;\n",
              "      --hover-fill-color: #FFFFFF;\n",
              "      --disabled-bg-color: #3B4455;\n",
              "      --disabled-fill-color: #666;\n",
              "  }\n",
              "\n",
              "  .colab-df-quickchart {\n",
              "    background-color: var(--bg-color);\n",
              "    border: none;\n",
              "    border-radius: 50%;\n",
              "    cursor: pointer;\n",
              "    display: none;\n",
              "    fill: var(--fill-color);\n",
              "    height: 32px;\n",
              "    padding: 0;\n",
              "    width: 32px;\n",
              "  }\n",
              "\n",
              "  .colab-df-quickchart:hover {\n",
              "    background-color: var(--hover-bg-color);\n",
              "    box-shadow: 0 1px 2px rgba(60, 64, 67, 0.3), 0 1px 3px 1px rgba(60, 64, 67, 0.15);\n",
              "    fill: var(--button-hover-fill-color);\n",
              "  }\n",
              "\n",
              "  .colab-df-quickchart-complete:disabled,\n",
              "  .colab-df-quickchart-complete:disabled:hover {\n",
              "    background-color: var(--disabled-bg-color);\n",
              "    fill: var(--disabled-fill-color);\n",
              "    box-shadow: none;\n",
              "  }\n",
              "\n",
              "  .colab-df-spinner {\n",
              "    border: 2px solid var(--fill-color);\n",
              "    border-color: transparent;\n",
              "    border-bottom-color: var(--fill-color);\n",
              "    animation:\n",
              "      spin 1s steps(1) infinite;\n",
              "  }\n",
              "\n",
              "  @keyframes spin {\n",
              "    0% {\n",
              "      border-color: transparent;\n",
              "      border-bottom-color: var(--fill-color);\n",
              "      border-left-color: var(--fill-color);\n",
              "    }\n",
              "    20% {\n",
              "      border-color: transparent;\n",
              "      border-left-color: var(--fill-color);\n",
              "      border-top-color: var(--fill-color);\n",
              "    }\n",
              "    30% {\n",
              "      border-color: transparent;\n",
              "      border-left-color: var(--fill-color);\n",
              "      border-top-color: var(--fill-color);\n",
              "      border-right-color: var(--fill-color);\n",
              "    }\n",
              "    40% {\n",
              "      border-color: transparent;\n",
              "      border-right-color: var(--fill-color);\n",
              "      border-top-color: var(--fill-color);\n",
              "    }\n",
              "    60% {\n",
              "      border-color: transparent;\n",
              "      border-right-color: var(--fill-color);\n",
              "    }\n",
              "    80% {\n",
              "      border-color: transparent;\n",
              "      border-right-color: var(--fill-color);\n",
              "      border-bottom-color: var(--fill-color);\n",
              "    }\n",
              "    90% {\n",
              "      border-color: transparent;\n",
              "      border-bottom-color: var(--fill-color);\n",
              "    }\n",
              "  }\n",
              "</style>\n",
              "\n",
              "  <script>\n",
              "    async function quickchart(key) {\n",
              "      const quickchartButtonEl =\n",
              "        document.querySelector('#' + key + ' button');\n",
              "      quickchartButtonEl.disabled = true;  // To prevent multiple clicks.\n",
              "      quickchartButtonEl.classList.add('colab-df-spinner');\n",
              "      try {\n",
              "        const charts = await google.colab.kernel.invokeFunction(\n",
              "            'suggestCharts', [key], {});\n",
              "      } catch (error) {\n",
              "        console.error('Error during call to suggestCharts:', error);\n",
              "      }\n",
              "      quickchartButtonEl.classList.remove('colab-df-spinner');\n",
              "      quickchartButtonEl.classList.add('colab-df-quickchart-complete');\n",
              "    }\n",
              "    (() => {\n",
              "      let quickchartButtonEl =\n",
              "        document.querySelector('#df-a100b429-8a09-414e-9746-90b23b91c914 button');\n",
              "      quickchartButtonEl.style.display =\n",
              "        google.colab.kernel.accessAllowed ? 'block' : 'none';\n",
              "    })();\n",
              "  </script>\n",
              "</div>\n",
              "\n",
              "    </div>\n",
              "  </div>\n"
            ],
            "application/vnd.google.colaboratory.intrinsic+json": {
              "type": "dataframe",
              "variable_name": "df_no_outlier"
            }
          },
          "metadata": {},
          "execution_count": 20
        }
      ]
    },
    {
      "cell_type": "markdown",
      "source": [
        "# **9. Save new dataframe**"
      ],
      "metadata": {
        "id": "VlksCiq4wPH6"
      }
    },
    {
      "cell_type": "code",
      "source": [
        "# Assuming df is your DataFrame\n",
        "file_path = '/content/drive/My Drive/USML Projects/Data/clean_data_0213.parquet'  # Specify your path and file name\n",
        "df_no_outlier.to_parquet(file_path, index=False)"
      ],
      "metadata": {
        "id": "2RZkupc9wU0j"
      },
      "execution_count": null,
      "outputs": []
    }
  ],
  "metadata": {
    "colab": {
      "provenance": [],
      "include_colab_link": true
    },
    "kernelspec": {
      "display_name": "Python 3",
      "name": "python3"
    },
    "language_info": {
      "name": "python"
    }
  },
  "nbformat": 4,
  "nbformat_minor": 0
}